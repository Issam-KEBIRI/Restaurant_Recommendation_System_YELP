{
 "cells": [
  {
   "attachments": {},
   "cell_type": "markdown",
   "id": "9739c334",
   "metadata": {},
   "source": [
    "# Restaurant_Recommendation_System_YELP"
   ]
  },
  {
   "cell_type": "code",
   "execution_count": 2,
   "id": "941f1b5d",
   "metadata": {},
   "outputs": [],
   "source": [
    "import pandas as pd\n",
    "import numpy as np\n",
    "from IPython.display import Image"
   ]
  },
  {
   "cell_type": "raw",
   "id": "5a3496da",
   "metadata": {},
   "source": [
    "FORMATAGE ET NETOYAGE DES DONNEES :\n",
    "\n",
    "2 Noeuds\n",
    "2 Relations\n",
    "\n",
    "Attributs des Noeuds\n",
    "user : 'user_id' , 'name' , 'review_count' , 'useful' , 'cool' , 'fans'\n",
    "restaurants : 'business_id' , 'name' , 'city' , 'stars' , 'review_count' , \n",
    "                'attributes' {'Ambience' , 'RestaurantsPriceRange2'} , 'categories'\n",
    "\n",
    "Attributs des Relations\n",
    "friends : 'START_ID' , 'END_ID' \n",
    "review : 'review_id' , 'user_id' , 'business_id' , 'stars' , 'useful' , 'cool'"
   ]
  },
  {
   "cell_type": "markdown",
   "id": "eccbd38c",
   "metadata": {},
   "source": [
    "## A- Architecture proposée   \n",
    "    Afin de couvrir l’ensemble du cas d’étude et pouvoir répondre à l’ensemble des requêtes traité dans 2. Interrogation des données, la Figure 1 représente la modélisation que nous proposons, deux types de nœuds : user et restaurants ainsi que deux types de relations : friends et review, chacun avec ces propres attributs."
   ]
  },
  {
   "cell_type": "code",
   "execution_count": 3,
   "id": "26081439",
   "metadata": {},
   "outputs": [
    {
     "data": {
      "text/html": [
       "<img src=\"./Modeliation.jpg\" width=\"800\" height=\"800\"/>"
      ],
      "text/plain": [
       "<IPython.core.display.Image object>"
      ]
     },
     "execution_count": 3,
     "metadata": {},
     "output_type": "execute_result"
    }
   ],
   "source": [
    "Image(url='./Modeliation.jpg', width=800, height=800)"
   ]
  },
  {
   "cell_type": "code",
   "execution_count": 3,
   "id": "70f1286f",
   "metadata": {},
   "outputs": [],
   "source": [
    "pd.set_option('display.max_columns', None)\n",
    "pd.set_option('display.max_rows', None)"
   ]
  },
  {
   "cell_type": "markdown",
   "id": "d13aa5e3",
   "metadata": {},
   "source": [
    "## B Conversion des données json en données sous format csv \n",
    "\n",
    "Pour la transformation des trois fichiers de données en CSV, nous procédons à un nettoyage de données en suppriment quelques colonnes non essentielles à notre projet, les attributs retenues pour chaque nœud et relation :\n",
    "\n",
    "    user : 'user_id' , 'name' , 'review_count' , 'friends' , 'useful' , 'cool' , 'fans'\n",
    "    restaurants : 'business_id' , 'name' , 'city' , 'stars' , 'review_count' , 'attributes': {'Ambience' , 'RestaurantsPriceRange2'} , 'categories'\n",
    "\n",
    "    friends : 'START_ID' , 'END_ID' \n",
    "    review : 'review_id' , 'user_id' , 'business_id' , 'stars' , 'useful' , 'cool'\n",
    "\n",
    "## 1- user dataset"
   ]
  },
  {
   "cell_type": "code",
   "execution_count": 4,
   "id": "d6d1a909",
   "metadata": {},
   "outputs": [],
   "source": [
    "df = pd.read_json (r'pourLesEtudiants/yelp_data_json/yelp_user.json')"
   ]
  },
  {
   "cell_type": "code",
   "execution_count": 5,
   "id": "26a6a868",
   "metadata": {},
   "outputs": [
    {
     "data": {
      "text/html": [
       "<div>\n",
       "<style scoped>\n",
       "    .dataframe tbody tr th:only-of-type {\n",
       "        vertical-align: middle;\n",
       "    }\n",
       "\n",
       "    .dataframe tbody tr th {\n",
       "        vertical-align: top;\n",
       "    }\n",
       "\n",
       "    .dataframe thead th {\n",
       "        text-align: right;\n",
       "    }\n",
       "</style>\n",
       "<table border=\"1\" class=\"dataframe\">\n",
       "  <thead>\n",
       "    <tr style=\"text-align: right;\">\n",
       "      <th></th>\n",
       "      <th>user_id</th>\n",
       "      <th>name</th>\n",
       "      <th>review_count</th>\n",
       "      <th>yelping_since</th>\n",
       "      <th>useful</th>\n",
       "      <th>funny</th>\n",
       "      <th>cool</th>\n",
       "      <th>elite</th>\n",
       "      <th>friends</th>\n",
       "      <th>fans</th>\n",
       "      <th>average_stars</th>\n",
       "      <th>compliment_hot</th>\n",
       "      <th>compliment_more</th>\n",
       "      <th>compliment_profile</th>\n",
       "      <th>compliment_cute</th>\n",
       "      <th>compliment_list</th>\n",
       "      <th>compliment_note</th>\n",
       "      <th>compliment_plain</th>\n",
       "      <th>compliment_cool</th>\n",
       "      <th>compliment_funny</th>\n",
       "      <th>compliment_writer</th>\n",
       "      <th>compliment_photos</th>\n",
       "    </tr>\n",
       "  </thead>\n",
       "  <tbody>\n",
       "    <tr>\n",
       "      <th>0</th>\n",
       "      <td>XLs_PhrJ7Qwn_RfgMM7Djw</td>\n",
       "      <td>Weili</td>\n",
       "      <td>90</td>\n",
       "      <td>2009-07-12 14:34:54</td>\n",
       "      <td>71</td>\n",
       "      <td>21</td>\n",
       "      <td>19</td>\n",
       "      <td></td>\n",
       "      <td>[]</td>\n",
       "      <td>1</td>\n",
       "      <td>3.62</td>\n",
       "      <td>0</td>\n",
       "      <td>0</td>\n",
       "      <td>0</td>\n",
       "      <td>0</td>\n",
       "      <td>0</td>\n",
       "      <td>1</td>\n",
       "      <td>3</td>\n",
       "      <td>0</td>\n",
       "      <td>0</td>\n",
       "      <td>0</td>\n",
       "      <td>0</td>\n",
       "    </tr>\n",
       "    <tr>\n",
       "      <th>1</th>\n",
       "      <td>IpLRJY4CP3fXtlEd8Y4GFQ</td>\n",
       "      <td>Robyn</td>\n",
       "      <td>518</td>\n",
       "      <td>2009-04-11 14:35:46</td>\n",
       "      <td>1325</td>\n",
       "      <td>450</td>\n",
       "      <td>348</td>\n",
       "      <td>2009,2010,2011</td>\n",
       "      <td>[y3Wtx1pOvTiqsJRkjceXiw, _BcWyKQL16ndpBdggh2kN...</td>\n",
       "      <td>35</td>\n",
       "      <td>2.95</td>\n",
       "      <td>32</td>\n",
       "      <td>4</td>\n",
       "      <td>2</td>\n",
       "      <td>7</td>\n",
       "      <td>1</td>\n",
       "      <td>35</td>\n",
       "      <td>17</td>\n",
       "      <td>20</td>\n",
       "      <td>20</td>\n",
       "      <td>20</td>\n",
       "      <td>6</td>\n",
       "    </tr>\n",
       "    <tr>\n",
       "      <th>2</th>\n",
       "      <td>0juMoWXC7z4c7LgQP2s3sA</td>\n",
       "      <td>JR</td>\n",
       "      <td>199</td>\n",
       "      <td>2011-03-18 11:58:09</td>\n",
       "      <td>482</td>\n",
       "      <td>150</td>\n",
       "      <td>131</td>\n",
       "      <td>2013,2014,2015,2016</td>\n",
       "      <td>[46Wi08T5D3phf3SMgi7U3w, HUxktqjf5kJm0tIHTCCws...</td>\n",
       "      <td>9</td>\n",
       "      <td>3.40</td>\n",
       "      <td>12</td>\n",
       "      <td>2</td>\n",
       "      <td>0</td>\n",
       "      <td>0</td>\n",
       "      <td>0</td>\n",
       "      <td>5</td>\n",
       "      <td>3</td>\n",
       "      <td>13</td>\n",
       "      <td>13</td>\n",
       "      <td>16</td>\n",
       "      <td>1</td>\n",
       "    </tr>\n",
       "  </tbody>\n",
       "</table>\n",
       "</div>"
      ],
      "text/plain": [
       "                  user_id   name  review_count        yelping_since  useful  \\\n",
       "0  XLs_PhrJ7Qwn_RfgMM7Djw  Weili            90  2009-07-12 14:34:54      71   \n",
       "1  IpLRJY4CP3fXtlEd8Y4GFQ  Robyn           518  2009-04-11 14:35:46    1325   \n",
       "2  0juMoWXC7z4c7LgQP2s3sA     JR           199  2011-03-18 11:58:09     482   \n",
       "\n",
       "   funny  cool                elite  \\\n",
       "0     21    19                        \n",
       "1    450   348       2009,2010,2011   \n",
       "2    150   131  2013,2014,2015,2016   \n",
       "\n",
       "                                             friends  fans  average_stars  \\\n",
       "0                                                 []     1           3.62   \n",
       "1  [y3Wtx1pOvTiqsJRkjceXiw, _BcWyKQL16ndpBdggh2kN...    35           2.95   \n",
       "2  [46Wi08T5D3phf3SMgi7U3w, HUxktqjf5kJm0tIHTCCws...     9           3.40   \n",
       "\n",
       "   compliment_hot  compliment_more  compliment_profile  compliment_cute  \\\n",
       "0               0                0                   0                0   \n",
       "1              32                4                   2                7   \n",
       "2              12                2                   0                0   \n",
       "\n",
       "   compliment_list  compliment_note  compliment_plain  compliment_cool  \\\n",
       "0                0                1                 3                0   \n",
       "1                1               35                17               20   \n",
       "2                0                5                 3               13   \n",
       "\n",
       "   compliment_funny  compliment_writer  compliment_photos  \n",
       "0                 0                  0                  0  \n",
       "1                20                 20                  6  \n",
       "2                13                 16                  1  "
      ]
     },
     "execution_count": 5,
     "metadata": {},
     "output_type": "execute_result"
    }
   ],
   "source": [
    "df.head(3)"
   ]
  },
  {
   "cell_type": "markdown",
   "id": "ee03577c",
   "metadata": {
    "collapsed": true
   },
   "source": [
    "### Attributs des Noeuds\n",
    "### user : 'user_id' , 'name' , 'review_count' , 'useful' , 'cool', 'friends' , 'fans'"
   ]
  },
  {
   "cell_type": "code",
   "execution_count": 6,
   "id": "16b2f6c4",
   "metadata": {
    "scrolled": false
   },
   "outputs": [
    {
     "data": {
      "text/html": [
       "<div>\n",
       "<style scoped>\n",
       "    .dataframe tbody tr th:only-of-type {\n",
       "        vertical-align: middle;\n",
       "    }\n",
       "\n",
       "    .dataframe tbody tr th {\n",
       "        vertical-align: top;\n",
       "    }\n",
       "\n",
       "    .dataframe thead th {\n",
       "        text-align: right;\n",
       "    }\n",
       "</style>\n",
       "<table border=\"1\" class=\"dataframe\">\n",
       "  <thead>\n",
       "    <tr style=\"text-align: right;\">\n",
       "      <th></th>\n",
       "      <th>user_id</th>\n",
       "      <th>name</th>\n",
       "      <th>review_count</th>\n",
       "      <th>useful</th>\n",
       "      <th>fans</th>\n",
       "      <th>friends</th>\n",
       "    </tr>\n",
       "  </thead>\n",
       "  <tbody>\n",
       "    <tr>\n",
       "      <th>0</th>\n",
       "      <td>XLs_PhrJ7Qwn_RfgMM7Djw</td>\n",
       "      <td>Weili</td>\n",
       "      <td>90</td>\n",
       "      <td>71</td>\n",
       "      <td>1</td>\n",
       "      <td>[]</td>\n",
       "    </tr>\n",
       "    <tr>\n",
       "      <th>1</th>\n",
       "      <td>IpLRJY4CP3fXtlEd8Y4GFQ</td>\n",
       "      <td>Robyn</td>\n",
       "      <td>518</td>\n",
       "      <td>1325</td>\n",
       "      <td>35</td>\n",
       "      <td>[y3Wtx1pOvTiqsJRkjceXiw, _BcWyKQL16ndpBdggh2kN...</td>\n",
       "    </tr>\n",
       "    <tr>\n",
       "      <th>2</th>\n",
       "      <td>0juMoWXC7z4c7LgQP2s3sA</td>\n",
       "      <td>JR</td>\n",
       "      <td>199</td>\n",
       "      <td>482</td>\n",
       "      <td>9</td>\n",
       "      <td>[46Wi08T5D3phf3SMgi7U3w, HUxktqjf5kJm0tIHTCCws...</td>\n",
       "    </tr>\n",
       "  </tbody>\n",
       "</table>\n",
       "</div>"
      ],
      "text/plain": [
       "                  user_id   name  review_count  useful  fans  \\\n",
       "0  XLs_PhrJ7Qwn_RfgMM7Djw  Weili            90      71     1   \n",
       "1  IpLRJY4CP3fXtlEd8Y4GFQ  Robyn           518    1325    35   \n",
       "2  0juMoWXC7z4c7LgQP2s3sA     JR           199     482     9   \n",
       "\n",
       "                                             friends  \n",
       "0                                                 []  \n",
       "1  [y3Wtx1pOvTiqsJRkjceXiw, _BcWyKQL16ndpBdggh2kN...  \n",
       "2  [46Wi08T5D3phf3SMgi7U3w, HUxktqjf5kJm0tIHTCCws...  "
      ]
     },
     "execution_count": 6,
     "metadata": {},
     "output_type": "execute_result"
    }
   ],
   "source": [
    "user=df[['user_id','name','review_count','useful','fans','friends']]\n",
    "user.head(3)"
   ]
  },
  {
   "cell_type": "code",
   "execution_count": 7,
   "id": "53eb4357",
   "metadata": {},
   "outputs": [
    {
     "data": {
      "text/plain": [
       "(23082, 6)"
      ]
     },
     "execution_count": 7,
     "metadata": {},
     "output_type": "execute_result"
    }
   ],
   "source": [
    "user.shape"
   ]
  },
  {
   "cell_type": "code",
   "execution_count": 8,
   "id": "07933bd6",
   "metadata": {},
   "outputs": [],
   "source": [
    "lst=[]\n",
    "for i in range(len(user)):\n",
    "    lst.append(len(df['friends'][i]))\n",
    "user.insert(4, 'nb_friends', lst)"
   ]
  },
  {
   "cell_type": "code",
   "execution_count": 9,
   "id": "da1b886c",
   "metadata": {},
   "outputs": [
    {
     "data": {
      "text/html": [
       "<div>\n",
       "<style scoped>\n",
       "    .dataframe tbody tr th:only-of-type {\n",
       "        vertical-align: middle;\n",
       "    }\n",
       "\n",
       "    .dataframe tbody tr th {\n",
       "        vertical-align: top;\n",
       "    }\n",
       "\n",
       "    .dataframe thead th {\n",
       "        text-align: right;\n",
       "    }\n",
       "</style>\n",
       "<table border=\"1\" class=\"dataframe\">\n",
       "  <thead>\n",
       "    <tr style=\"text-align: right;\">\n",
       "      <th></th>\n",
       "      <th>user_id:ID(user)</th>\n",
       "      <th>name</th>\n",
       "      <th>review_count</th>\n",
       "      <th>useful</th>\n",
       "      <th>nb_friends</th>\n",
       "      <th>fans</th>\n",
       "      <th>friends</th>\n",
       "    </tr>\n",
       "  </thead>\n",
       "  <tbody>\n",
       "    <tr>\n",
       "      <th>0</th>\n",
       "      <td>XLs_PhrJ7Qwn_RfgMM7Djw</td>\n",
       "      <td>Weili</td>\n",
       "      <td>90</td>\n",
       "      <td>71</td>\n",
       "      <td>0</td>\n",
       "      <td>1</td>\n",
       "      <td>[]</td>\n",
       "    </tr>\n",
       "    <tr>\n",
       "      <th>1</th>\n",
       "      <td>IpLRJY4CP3fXtlEd8Y4GFQ</td>\n",
       "      <td>Robyn</td>\n",
       "      <td>518</td>\n",
       "      <td>1325</td>\n",
       "      <td>23</td>\n",
       "      <td>35</td>\n",
       "      <td>[y3Wtx1pOvTiqsJRkjceXiw, _BcWyKQL16ndpBdggh2kN...</td>\n",
       "    </tr>\n",
       "    <tr>\n",
       "      <th>2</th>\n",
       "      <td>0juMoWXC7z4c7LgQP2s3sA</td>\n",
       "      <td>JR</td>\n",
       "      <td>199</td>\n",
       "      <td>482</td>\n",
       "      <td>4</td>\n",
       "      <td>9</td>\n",
       "      <td>[46Wi08T5D3phf3SMgi7U3w, HUxktqjf5kJm0tIHTCCws...</td>\n",
       "    </tr>\n",
       "  </tbody>\n",
       "</table>\n",
       "</div>"
      ],
      "text/plain": [
       "         user_id:ID(user)   name  review_count  useful  nb_friends  fans  \\\n",
       "0  XLs_PhrJ7Qwn_RfgMM7Djw  Weili            90      71           0     1   \n",
       "1  IpLRJY4CP3fXtlEd8Y4GFQ  Robyn           518    1325          23    35   \n",
       "2  0juMoWXC7z4c7LgQP2s3sA     JR           199     482           4     9   \n",
       "\n",
       "                                             friends  \n",
       "0                                                 []  \n",
       "1  [y3Wtx1pOvTiqsJRkjceXiw, _BcWyKQL16ndpBdggh2kN...  \n",
       "2  [46Wi08T5D3phf3SMgi7U3w, HUxktqjf5kJm0tIHTCCws...  "
      ]
     },
     "execution_count": 9,
     "metadata": {},
     "output_type": "execute_result"
    }
   ],
   "source": [
    "user=user.rename(columns={\"user_id\": \"user_id:ID(user)\"})\n",
    "user.head(3)"
   ]
  },
  {
   "cell_type": "code",
   "execution_count": 10,
   "id": "a6e236b7",
   "metadata": {},
   "outputs": [],
   "source": [
    "user.to_csv(r'C:/Users/Utilisateur/Desktop/data_csv_neo4j/user.csv', index = None)"
   ]
  },
  {
   "cell_type": "markdown",
   "id": "629d6f9e",
   "metadata": {},
   "source": [
    "## 2- Friend dataset\n",
    "### Attributs des Relations\n",
    "### friends : 'START_ID' , 'END_ID"
   ]
  },
  {
   "cell_type": "code",
   "execution_count": 11,
   "id": "8047be4c",
   "metadata": {
    "scrolled": true
   },
   "outputs": [
    {
     "data": {
      "text/html": [
       "<div>\n",
       "<style scoped>\n",
       "    .dataframe tbody tr th:only-of-type {\n",
       "        vertical-align: middle;\n",
       "    }\n",
       "\n",
       "    .dataframe tbody tr th {\n",
       "        vertical-align: top;\n",
       "    }\n",
       "\n",
       "    .dataframe thead th {\n",
       "        text-align: right;\n",
       "    }\n",
       "</style>\n",
       "<table border=\"1\" class=\"dataframe\">\n",
       "  <thead>\n",
       "    <tr style=\"text-align: right;\">\n",
       "      <th></th>\n",
       "      <th>user_id</th>\n",
       "      <th>friends</th>\n",
       "    </tr>\n",
       "  </thead>\n",
       "  <tbody>\n",
       "    <tr>\n",
       "      <th>0</th>\n",
       "      <td>XLs_PhrJ7Qwn_RfgMM7Djw</td>\n",
       "      <td>[]</td>\n",
       "    </tr>\n",
       "    <tr>\n",
       "      <th>1</th>\n",
       "      <td>IpLRJY4CP3fXtlEd8Y4GFQ</td>\n",
       "      <td>[y3Wtx1pOvTiqsJRkjceXiw, _BcWyKQL16ndpBdggh2kN...</td>\n",
       "    </tr>\n",
       "    <tr>\n",
       "      <th>2</th>\n",
       "      <td>0juMoWXC7z4c7LgQP2s3sA</td>\n",
       "      <td>[46Wi08T5D3phf3SMgi7U3w, HUxktqjf5kJm0tIHTCCws...</td>\n",
       "    </tr>\n",
       "  </tbody>\n",
       "</table>\n",
       "</div>"
      ],
      "text/plain": [
       "                  user_id                                            friends\n",
       "0  XLs_PhrJ7Qwn_RfgMM7Djw                                                 []\n",
       "1  IpLRJY4CP3fXtlEd8Y4GFQ  [y3Wtx1pOvTiqsJRkjceXiw, _BcWyKQL16ndpBdggh2kN...\n",
       "2  0juMoWXC7z4c7LgQP2s3sA  [46Wi08T5D3phf3SMgi7U3w, HUxktqjf5kJm0tIHTCCws..."
      ]
     },
     "execution_count": 11,
     "metadata": {},
     "output_type": "execute_result"
    }
   ],
   "source": [
    "friend=df[['user_id','friends']]\n",
    "friend.head(3)"
   ]
  },
  {
   "cell_type": "code",
   "execution_count": 12,
   "id": "018e832e",
   "metadata": {},
   "outputs": [
    {
     "data": {
      "text/plain": [
       "(23082, 2)"
      ]
     },
     "execution_count": 12,
     "metadata": {},
     "output_type": "execute_result"
    }
   ],
   "source": [
    "friend.shape"
   ]
  },
  {
   "cell_type": "code",
   "execution_count": 13,
   "id": "678d1de1",
   "metadata": {},
   "outputs": [
    {
     "name": "stdout",
     "output_type": "stream",
     "text": [
      "['friend_1', 'friend_2', 'friend_3', 'friend_4', 'friend_5', 'friend_6', 'friend_7', 'friend_8', 'friend_9', 'friend_10', 'friend_11', 'friend_12', 'friend_13', 'friend_14', 'friend_15', 'friend_16', 'friend_17', 'friend_18', 'friend_19', 'friend_20']\n"
     ]
    }
   ],
   "source": [
    "list_frineds=['friend_'+str(i) for i in range(1,461)]\n",
    "print(list_frineds[:20])"
   ]
  },
  {
   "cell_type": "code",
   "execution_count": 14,
   "id": "eef34180",
   "metadata": {},
   "outputs": [
    {
     "data": {
      "text/plain": [
       "23082"
      ]
     },
     "execution_count": 14,
     "metadata": {},
     "output_type": "execute_result"
    }
   ],
   "source": [
    "len(friend)"
   ]
  },
  {
   "cell_type": "code",
   "execution_count": 15,
   "id": "b23232f8",
   "metadata": {},
   "outputs": [],
   "source": [
    "relation_friend=friend.explode('friends').rename(columns={\"user_id\": \":START_ID(user)\",\n",
    "                                                          \"friends\": \":END_ID(user)\"})"
   ]
  },
  {
   "cell_type": "code",
   "execution_count": 16,
   "id": "e9223f0e",
   "metadata": {
    "scrolled": true
   },
   "outputs": [
    {
     "data": {
      "text/html": [
       "<div>\n",
       "<style scoped>\n",
       "    .dataframe tbody tr th:only-of-type {\n",
       "        vertical-align: middle;\n",
       "    }\n",
       "\n",
       "    .dataframe tbody tr th {\n",
       "        vertical-align: top;\n",
       "    }\n",
       "\n",
       "    .dataframe thead th {\n",
       "        text-align: right;\n",
       "    }\n",
       "</style>\n",
       "<table border=\"1\" class=\"dataframe\">\n",
       "  <thead>\n",
       "    <tr style=\"text-align: right;\">\n",
       "      <th></th>\n",
       "      <th>:START_ID(user)</th>\n",
       "      <th>:END_ID(user)</th>\n",
       "    </tr>\n",
       "  </thead>\n",
       "  <tbody>\n",
       "    <tr>\n",
       "      <th>1</th>\n",
       "      <td>IpLRJY4CP3fXtlEd8Y4GFQ</td>\n",
       "      <td>y3Wtx1pOvTiqsJRkjceXiw</td>\n",
       "    </tr>\n",
       "    <tr>\n",
       "      <th>1</th>\n",
       "      <td>IpLRJY4CP3fXtlEd8Y4GFQ</td>\n",
       "      <td>_BcWyKQL16ndpBdggh2kNA</td>\n",
       "    </tr>\n",
       "    <tr>\n",
       "      <th>1</th>\n",
       "      <td>IpLRJY4CP3fXtlEd8Y4GFQ</td>\n",
       "      <td>lRRuTimITgwzoXLIM3g9qw</td>\n",
       "    </tr>\n",
       "  </tbody>\n",
       "</table>\n",
       "</div>"
      ],
      "text/plain": [
       "          :START_ID(user)           :END_ID(user)\n",
       "1  IpLRJY4CP3fXtlEd8Y4GFQ  y3Wtx1pOvTiqsJRkjceXiw\n",
       "1  IpLRJY4CP3fXtlEd8Y4GFQ  _BcWyKQL16ndpBdggh2kNA\n",
       "1  IpLRJY4CP3fXtlEd8Y4GFQ  lRRuTimITgwzoXLIM3g9qw"
      ]
     },
     "execution_count": 16,
     "metadata": {},
     "output_type": "execute_result"
    }
   ],
   "source": [
    "relation_friend=relation_friend.dropna()\n",
    "relation_friend.head(3)"
   ]
  },
  {
   "cell_type": "code",
   "execution_count": 17,
   "id": "6d138823",
   "metadata": {},
   "outputs": [
    {
     "data": {
      "text/plain": [
       "(42776, 2)"
      ]
     },
     "execution_count": 17,
     "metadata": {},
     "output_type": "execute_result"
    }
   ],
   "source": [
    "relation_friend.shape"
   ]
  },
  {
   "cell_type": "code",
   "execution_count": 18,
   "id": "353ecd3f",
   "metadata": {},
   "outputs": [],
   "source": [
    "relation_friend.to_csv(r'C:/Users/Utilisateur/Desktop/data_csv_neo4j/friend.csv',\n",
    "                                 index = None)"
   ]
  },
  {
   "cell_type": "markdown",
   "id": "f80eb997",
   "metadata": {},
   "source": [
    "## 3- Review  dataset\n",
    "### Attributs des Relations\n",
    "### review : 'review_id' , 'user_id' , 'business_id' , 'stars' , 'useful' , 'cool'"
   ]
  },
  {
   "cell_type": "code",
   "execution_count": 19,
   "id": "b2e83939",
   "metadata": {},
   "outputs": [
    {
     "data": {
      "text/html": [
       "<div>\n",
       "<style scoped>\n",
       "    .dataframe tbody tr th:only-of-type {\n",
       "        vertical-align: middle;\n",
       "    }\n",
       "\n",
       "    .dataframe tbody tr th {\n",
       "        vertical-align: top;\n",
       "    }\n",
       "\n",
       "    .dataframe thead th {\n",
       "        text-align: right;\n",
       "    }\n",
       "</style>\n",
       "<table border=\"1\" class=\"dataframe\">\n",
       "  <thead>\n",
       "    <tr style=\"text-align: right;\">\n",
       "      <th></th>\n",
       "      <th>review_id</th>\n",
       "      <th>user_id</th>\n",
       "      <th>business_id</th>\n",
       "      <th>stars</th>\n",
       "      <th>useful</th>\n",
       "      <th>funny</th>\n",
       "      <th>cool</th>\n",
       "      <th>text</th>\n",
       "      <th>date</th>\n",
       "    </tr>\n",
       "  </thead>\n",
       "  <tbody>\n",
       "    <tr>\n",
       "      <th>0</th>\n",
       "      <td>2xlNGuN8naQTHO3_xY0lGw</td>\n",
       "      <td>8rrmvJ7W3ujplXuOhjE2Hg</td>\n",
       "      <td>yDiWYpuzRxcTgSi_O4JZpQ</td>\n",
       "      <td>5</td>\n",
       "      <td>0</td>\n",
       "      <td>0</td>\n",
       "      <td>0</td>\n",
       "      <td>This is the place for authentic Indian street ...</td>\n",
       "      <td>2017-03-27 13:27:52</td>\n",
       "    </tr>\n",
       "    <tr>\n",
       "      <th>1</th>\n",
       "      <td>_Dkml_CfMMb_wWeGpFtczg</td>\n",
       "      <td>TRFTDMJegE6DituEKBpEKQ</td>\n",
       "      <td>W6S482dRQ_9nCcLjfv8VNg</td>\n",
       "      <td>1</td>\n",
       "      <td>0</td>\n",
       "      <td>0</td>\n",
       "      <td>0</td>\n",
       "      <td>Food was great. But very disappointed with the...</td>\n",
       "      <td>2016-07-04 04:17:15</td>\n",
       "    </tr>\n",
       "    <tr>\n",
       "      <th>2</th>\n",
       "      <td>EmLTCw2p9BhOwnzHFXgGaQ</td>\n",
       "      <td>glO-c9FC0RaY2GyiamCQFA</td>\n",
       "      <td>OlOVRlcEstxKK_6hMjy63A</td>\n",
       "      <td>3</td>\n",
       "      <td>0</td>\n",
       "      <td>0</td>\n",
       "      <td>0</td>\n",
       "      <td>One of the few diners in North Wilmington, and...</td>\n",
       "      <td>2014-08-25 03:05:45</td>\n",
       "    </tr>\n",
       "  </tbody>\n",
       "</table>\n",
       "</div>"
      ],
      "text/plain": [
       "                review_id                 user_id             business_id  \\\n",
       "0  2xlNGuN8naQTHO3_xY0lGw  8rrmvJ7W3ujplXuOhjE2Hg  yDiWYpuzRxcTgSi_O4JZpQ   \n",
       "1  _Dkml_CfMMb_wWeGpFtczg  TRFTDMJegE6DituEKBpEKQ  W6S482dRQ_9nCcLjfv8VNg   \n",
       "2  EmLTCw2p9BhOwnzHFXgGaQ  glO-c9FC0RaY2GyiamCQFA  OlOVRlcEstxKK_6hMjy63A   \n",
       "\n",
       "   stars  useful  funny  cool  \\\n",
       "0      5       0      0     0   \n",
       "1      1       0      0     0   \n",
       "2      3       0      0     0   \n",
       "\n",
       "                                                text                date  \n",
       "0  This is the place for authentic Indian street ... 2017-03-27 13:27:52  \n",
       "1  Food was great. But very disappointed with the... 2016-07-04 04:17:15  \n",
       "2  One of the few diners in North Wilmington, and... 2014-08-25 03:05:45  "
      ]
     },
     "execution_count": 19,
     "metadata": {},
     "output_type": "execute_result"
    }
   ],
   "source": [
    "df = pd.read_json (r'pourLesEtudiants/yelp_data_json/yelp_review.json')\n",
    "df.head(3)"
   ]
  },
  {
   "cell_type": "code",
   "execution_count": 20,
   "id": "0d55dd79",
   "metadata": {
    "scrolled": true
   },
   "outputs": [
    {
     "data": {
      "text/html": [
       "<div>\n",
       "<style scoped>\n",
       "    .dataframe tbody tr th:only-of-type {\n",
       "        vertical-align: middle;\n",
       "    }\n",
       "\n",
       "    .dataframe tbody tr th {\n",
       "        vertical-align: top;\n",
       "    }\n",
       "\n",
       "    .dataframe thead th {\n",
       "        text-align: right;\n",
       "    }\n",
       "</style>\n",
       "<table border=\"1\" class=\"dataframe\">\n",
       "  <thead>\n",
       "    <tr style=\"text-align: right;\">\n",
       "      <th></th>\n",
       "      <th>:START_ID(user)</th>\n",
       "      <th>:END_ID(restaurant)</th>\n",
       "      <th>review_id</th>\n",
       "      <th>stars</th>\n",
       "      <th>useful</th>\n",
       "      <th>cool</th>\n",
       "    </tr>\n",
       "  </thead>\n",
       "  <tbody>\n",
       "    <tr>\n",
       "      <th>0</th>\n",
       "      <td>8rrmvJ7W3ujplXuOhjE2Hg</td>\n",
       "      <td>yDiWYpuzRxcTgSi_O4JZpQ</td>\n",
       "      <td>2xlNGuN8naQTHO3_xY0lGw</td>\n",
       "      <td>5</td>\n",
       "      <td>0</td>\n",
       "      <td>0</td>\n",
       "    </tr>\n",
       "    <tr>\n",
       "      <th>1</th>\n",
       "      <td>TRFTDMJegE6DituEKBpEKQ</td>\n",
       "      <td>W6S482dRQ_9nCcLjfv8VNg</td>\n",
       "      <td>_Dkml_CfMMb_wWeGpFtczg</td>\n",
       "      <td>1</td>\n",
       "      <td>0</td>\n",
       "      <td>0</td>\n",
       "    </tr>\n",
       "    <tr>\n",
       "      <th>2</th>\n",
       "      <td>glO-c9FC0RaY2GyiamCQFA</td>\n",
       "      <td>OlOVRlcEstxKK_6hMjy63A</td>\n",
       "      <td>EmLTCw2p9BhOwnzHFXgGaQ</td>\n",
       "      <td>3</td>\n",
       "      <td>0</td>\n",
       "      <td>0</td>\n",
       "    </tr>\n",
       "  </tbody>\n",
       "</table>\n",
       "</div>"
      ],
      "text/plain": [
       "          :START_ID(user)     :END_ID(restaurant)               review_id  \\\n",
       "0  8rrmvJ7W3ujplXuOhjE2Hg  yDiWYpuzRxcTgSi_O4JZpQ  2xlNGuN8naQTHO3_xY0lGw   \n",
       "1  TRFTDMJegE6DituEKBpEKQ  W6S482dRQ_9nCcLjfv8VNg  _Dkml_CfMMb_wWeGpFtczg   \n",
       "2  glO-c9FC0RaY2GyiamCQFA  OlOVRlcEstxKK_6hMjy63A  EmLTCw2p9BhOwnzHFXgGaQ   \n",
       "\n",
       "   stars  useful  cool  \n",
       "0      5       0     0  \n",
       "1      1       0     0  \n",
       "2      3       0     0  "
      ]
     },
     "execution_count": 20,
     "metadata": {},
     "output_type": "execute_result"
    }
   ],
   "source": [
    "review=df[[ 'user_id' , 'business_id' ,'review_id' , 'stars' , 'useful' , 'cool']]\n",
    "relation_review=review.rename(columns={\"user_id\": \":START_ID(user)\",\n",
    "                                       \"business_id\": \":END_ID(restaurant)\"})\n",
    "relation_review.head(3)"
   ]
  },
  {
   "cell_type": "code",
   "execution_count": 21,
   "id": "95c26b9b",
   "metadata": {},
   "outputs": [
    {
     "data": {
      "text/plain": [
       "(49150, 6)"
      ]
     },
     "execution_count": 21,
     "metadata": {},
     "output_type": "execute_result"
    }
   ],
   "source": [
    "relation_review.shape"
   ]
  },
  {
   "cell_type": "code",
   "execution_count": 22,
   "id": "2067f733",
   "metadata": {},
   "outputs": [
    {
     "data": {
      "text/html": [
       "<div>\n",
       "<style scoped>\n",
       "    .dataframe tbody tr th:only-of-type {\n",
       "        vertical-align: middle;\n",
       "    }\n",
       "\n",
       "    .dataframe tbody tr th {\n",
       "        vertical-align: top;\n",
       "    }\n",
       "\n",
       "    .dataframe thead th {\n",
       "        text-align: right;\n",
       "    }\n",
       "</style>\n",
       "<table border=\"1\" class=\"dataframe\">\n",
       "  <thead>\n",
       "    <tr style=\"text-align: right;\">\n",
       "      <th></th>\n",
       "      <th>:START_ID(user)</th>\n",
       "      <th>:END_ID(restaurant)</th>\n",
       "      <th>review_id</th>\n",
       "      <th>stars</th>\n",
       "      <th>useful</th>\n",
       "      <th>cool</th>\n",
       "    </tr>\n",
       "  </thead>\n",
       "  <tbody>\n",
       "    <tr>\n",
       "      <th>0</th>\n",
       "      <td>8rrmvJ7W3ujplXuOhjE2Hg</td>\n",
       "      <td>yDiWYpuzRxcTgSi_O4JZpQ</td>\n",
       "      <td>2xlNGuN8naQTHO3_xY0lGw</td>\n",
       "      <td>5</td>\n",
       "      <td>0</td>\n",
       "      <td>0</td>\n",
       "    </tr>\n",
       "    <tr>\n",
       "      <th>1</th>\n",
       "      <td>TRFTDMJegE6DituEKBpEKQ</td>\n",
       "      <td>W6S482dRQ_9nCcLjfv8VNg</td>\n",
       "      <td>_Dkml_CfMMb_wWeGpFtczg</td>\n",
       "      <td>1</td>\n",
       "      <td>0</td>\n",
       "      <td>0</td>\n",
       "    </tr>\n",
       "    <tr>\n",
       "      <th>2</th>\n",
       "      <td>glO-c9FC0RaY2GyiamCQFA</td>\n",
       "      <td>OlOVRlcEstxKK_6hMjy63A</td>\n",
       "      <td>EmLTCw2p9BhOwnzHFXgGaQ</td>\n",
       "      <td>3</td>\n",
       "      <td>0</td>\n",
       "      <td>0</td>\n",
       "    </tr>\n",
       "  </tbody>\n",
       "</table>\n",
       "</div>"
      ],
      "text/plain": [
       "          :START_ID(user)     :END_ID(restaurant)               review_id  \\\n",
       "0  8rrmvJ7W3ujplXuOhjE2Hg  yDiWYpuzRxcTgSi_O4JZpQ  2xlNGuN8naQTHO3_xY0lGw   \n",
       "1  TRFTDMJegE6DituEKBpEKQ  W6S482dRQ_9nCcLjfv8VNg  _Dkml_CfMMb_wWeGpFtczg   \n",
       "2  glO-c9FC0RaY2GyiamCQFA  OlOVRlcEstxKK_6hMjy63A  EmLTCw2p9BhOwnzHFXgGaQ   \n",
       "\n",
       "   stars  useful  cool  \n",
       "0      5       0     0  \n",
       "1      1       0     0  \n",
       "2      3       0     0  "
      ]
     },
     "execution_count": 22,
     "metadata": {},
     "output_type": "execute_result"
    }
   ],
   "source": [
    "relation_review=relation_review.dropna()\n",
    "relation_review.head(3)"
   ]
  },
  {
   "cell_type": "code",
   "execution_count": 23,
   "id": "f084e609",
   "metadata": {},
   "outputs": [],
   "source": [
    "relation_review.to_csv(r'C:/Users/Utilisateur/Desktop/data_csv_neo4j/review.csv',\n",
    "                                 index = None)"
   ]
  },
  {
   "cell_type": "markdown",
   "id": "1abf304a",
   "metadata": {},
   "source": [
    "## 4 restaurant dataset\n",
    "### Attributs des Noeuds\n",
    "### restaurants : 'business_id' , 'name' , 'city' , 'stars' , 'review_count' , \n",
    "###                 'attributes' {'Ambience' , 'RestaurantsPriceRange2'} , 'categories'"
   ]
  },
  {
   "cell_type": "code",
   "execution_count": 24,
   "id": "9b61f833",
   "metadata": {},
   "outputs": [
    {
     "data": {
      "text/html": [
       "<div>\n",
       "<style scoped>\n",
       "    .dataframe tbody tr th:only-of-type {\n",
       "        vertical-align: middle;\n",
       "    }\n",
       "\n",
       "    .dataframe tbody tr th {\n",
       "        vertical-align: top;\n",
       "    }\n",
       "\n",
       "    .dataframe thead th {\n",
       "        text-align: right;\n",
       "    }\n",
       "</style>\n",
       "<table border=\"1\" class=\"dataframe\">\n",
       "  <thead>\n",
       "    <tr style=\"text-align: right;\">\n",
       "      <th></th>\n",
       "      <th>business_id</th>\n",
       "      <th>name</th>\n",
       "      <th>address</th>\n",
       "      <th>city</th>\n",
       "      <th>state</th>\n",
       "      <th>postal_code</th>\n",
       "      <th>latitude</th>\n",
       "      <th>longitude</th>\n",
       "      <th>stars</th>\n",
       "      <th>review_count</th>\n",
       "      <th>is_open</th>\n",
       "      <th>attributes</th>\n",
       "      <th>categories</th>\n",
       "      <th>hours</th>\n",
       "    </tr>\n",
       "  </thead>\n",
       "  <tbody>\n",
       "    <tr>\n",
       "      <th>0</th>\n",
       "      <td>Dy91wdWkwtI_qgjAIZ0Niw</td>\n",
       "      <td>Taqueria Los Primos</td>\n",
       "      <td>3322 Old Capitol Trl</td>\n",
       "      <td>Wilmington</td>\n",
       "      <td>DE</td>\n",
       "      <td>19808</td>\n",
       "      <td>39.732089</td>\n",
       "      <td>-75.625673</td>\n",
       "      <td>4.0</td>\n",
       "      <td>23</td>\n",
       "      <td>1</td>\n",
       "      <td>{'BusinessAcceptsCreditCards': 'True', 'HasTV'...</td>\n",
       "      <td>Mexican, Restaurants</td>\n",
       "      <td>None</td>\n",
       "    </tr>\n",
       "    <tr>\n",
       "      <th>1</th>\n",
       "      <td>_Oksx3ALgKLRVxeAR8l_qA</td>\n",
       "      <td>V-Trap Kitchen and Lounge</td>\n",
       "      <td>607 N Lincoln St</td>\n",
       "      <td>Wilmington</td>\n",
       "      <td>DE</td>\n",
       "      <td>19805</td>\n",
       "      <td>39.750610</td>\n",
       "      <td>-75.570850</td>\n",
       "      <td>5.0</td>\n",
       "      <td>13</td>\n",
       "      <td>0</td>\n",
       "      <td>{'RestaurantsGoodForGroups': 'True', 'Business...</td>\n",
       "      <td>Restaurants, Mexican, Arts &amp; Entertainment, Ev...</td>\n",
       "      <td>{'Monday': '0:0-0:0', 'Tuesday': '12:0-19:0', ...</td>\n",
       "    </tr>\n",
       "    <tr>\n",
       "      <th>2</th>\n",
       "      <td>_NhT0A3LUEd75L_cEXf2_A</td>\n",
       "      <td>Season's Pizza</td>\n",
       "      <td>1721 W Gilpin Dr</td>\n",
       "      <td>Wilmington</td>\n",
       "      <td>DE</td>\n",
       "      <td>19805</td>\n",
       "      <td>39.745736</td>\n",
       "      <td>-75.609874</td>\n",
       "      <td>3.0</td>\n",
       "      <td>7</td>\n",
       "      <td>1</td>\n",
       "      <td>{'BusinessAcceptsCreditCards': 'True', 'Busine...</td>\n",
       "      <td>Restaurants, Pizza</td>\n",
       "      <td>{'Monday': '11:0-20:0', 'Tuesday': '11:0-20:0'...</td>\n",
       "    </tr>\n",
       "  </tbody>\n",
       "</table>\n",
       "</div>"
      ],
      "text/plain": [
       "              business_id                       name               address  \\\n",
       "0  Dy91wdWkwtI_qgjAIZ0Niw        Taqueria Los Primos  3322 Old Capitol Trl   \n",
       "1  _Oksx3ALgKLRVxeAR8l_qA  V-Trap Kitchen and Lounge      607 N Lincoln St   \n",
       "2  _NhT0A3LUEd75L_cEXf2_A             Season's Pizza      1721 W Gilpin Dr   \n",
       "\n",
       "         city state  postal_code   latitude  longitude  stars  review_count  \\\n",
       "0  Wilmington    DE        19808  39.732089 -75.625673    4.0            23   \n",
       "1  Wilmington    DE        19805  39.750610 -75.570850    5.0            13   \n",
       "2  Wilmington    DE        19805  39.745736 -75.609874    3.0             7   \n",
       "\n",
       "   is_open                                         attributes  \\\n",
       "0        1  {'BusinessAcceptsCreditCards': 'True', 'HasTV'...   \n",
       "1        0  {'RestaurantsGoodForGroups': 'True', 'Business...   \n",
       "2        1  {'BusinessAcceptsCreditCards': 'True', 'Busine...   \n",
       "\n",
       "                                          categories  \\\n",
       "0                               Mexican, Restaurants   \n",
       "1  Restaurants, Mexican, Arts & Entertainment, Ev...   \n",
       "2                                 Restaurants, Pizza   \n",
       "\n",
       "                                               hours  \n",
       "0                                               None  \n",
       "1  {'Monday': '0:0-0:0', 'Tuesday': '12:0-19:0', ...  \n",
       "2  {'Monday': '11:0-20:0', 'Tuesday': '11:0-20:0'...  "
      ]
     },
     "execution_count": 24,
     "metadata": {},
     "output_type": "execute_result"
    }
   ],
   "source": [
    "df = pd.read_json(r'pourLesEtudiants/yelp_data_json/yelp_restaurants.json')\n",
    "df.head(3)"
   ]
  },
  {
   "cell_type": "code",
   "execution_count": 25,
   "id": "e09d6ad5",
   "metadata": {},
   "outputs": [
    {
     "data": {
      "text/plain": [
       "(961, 14)"
      ]
     },
     "execution_count": 25,
     "metadata": {},
     "output_type": "execute_result"
    }
   ],
   "source": [
    "df.shape"
   ]
  },
  {
   "cell_type": "code",
   "execution_count": 26,
   "id": "1b73b113",
   "metadata": {},
   "outputs": [],
   "source": [
    "restau=df[['business_id' , 'name' ,'address', 'city' , 'stars' , 'review_count' ,\n",
    "           'categories','attributes']]"
   ]
  },
  {
   "cell_type": "code",
   "execution_count": 27,
   "id": "dd49540d",
   "metadata": {},
   "outputs": [
    {
     "data": {
      "text/plain": [
       "{'RestaurantsPriceRange2': '1',\n",
       " 'BusinessParking': \"{'garage': False, 'street': False, 'validated': False, 'lot': False, 'valet': False}\",\n",
       " 'BikeParking': 'True',\n",
       " 'GoodForMeal': \"{'dessert': False, 'latenight': False, 'lunch': False, 'dinner': False, 'brunch': False, 'breakfast': False}\",\n",
       " 'BusinessAcceptsCreditCards': 'True',\n",
       " 'RestaurantsTakeOut': 'True',\n",
       " 'Ambience': \"{'touristy': False, 'hipster': False, 'romantic': False, 'divey': False, 'intimate': False, 'trendy': False, 'upscale': False, 'classy': False, 'casual': False}\",\n",
       " 'RestaurantsDelivery': 'True'}"
      ]
     },
     "execution_count": 27,
     "metadata": {},
     "output_type": "execute_result"
    }
   ],
   "source": [
    "#  no rengeprice !!!!\n",
    "restau.loc[16]['attributes']"
   ]
  },
  {
   "cell_type": "code",
   "execution_count": 28,
   "id": "cbd9d35b",
   "metadata": {},
   "outputs": [
    {
     "name": "stdout",
     "output_type": "stream",
     "text": [
      "(961, 8)\n"
     ]
    }
   ],
   "source": [
    "print(restau.shape)\n",
    "# # restau=restau.dropna()\n",
    "# print(restau.shape)"
   ]
  },
  {
   "cell_type": "code",
   "execution_count": 29,
   "id": "257a03fc",
   "metadata": {},
   "outputs": [
    {
     "data": {
      "text/plain": [
       "961"
      ]
     },
     "execution_count": 29,
     "metadata": {},
     "output_type": "execute_result"
    }
   ],
   "source": [
    "attribute=restau[['business_id','attributes']]\n",
    "len(attribute)"
   ]
  },
  {
   "cell_type": "code",
   "execution_count": 30,
   "id": "d1ce2940",
   "metadata": {},
   "outputs": [],
   "source": [
    "for i in range(len(attribute)):\n",
    "    if attribute.iloc[i]['attributes']==None:\n",
    "        attribute.iloc[i]['attributes']={}"
   ]
  },
  {
   "cell_type": "code",
   "execution_count": 31,
   "id": "cd19aa61",
   "metadata": {},
   "outputs": [
    {
     "data": {
      "text/html": [
       "<div>\n",
       "<style scoped>\n",
       "    .dataframe tbody tr th:only-of-type {\n",
       "        vertical-align: middle;\n",
       "    }\n",
       "\n",
       "    .dataframe tbody tr th {\n",
       "        vertical-align: top;\n",
       "    }\n",
       "\n",
       "    .dataframe thead th {\n",
       "        text-align: right;\n",
       "    }\n",
       "</style>\n",
       "<table border=\"1\" class=\"dataframe\">\n",
       "  <thead>\n",
       "    <tr style=\"text-align: right;\">\n",
       "      <th></th>\n",
       "      <th>business_id</th>\n",
       "      <th>attributes</th>\n",
       "    </tr>\n",
       "  </thead>\n",
       "  <tbody>\n",
       "    <tr>\n",
       "      <th>0</th>\n",
       "      <td>Dy91wdWkwtI_qgjAIZ0Niw</td>\n",
       "      <td>{'BusinessAcceptsCreditCards': 'True', 'HasTV'...</td>\n",
       "    </tr>\n",
       "    <tr>\n",
       "      <th>1</th>\n",
       "      <td>_Oksx3ALgKLRVxeAR8l_qA</td>\n",
       "      <td>{'RestaurantsGoodForGroups': 'True', 'Business...</td>\n",
       "    </tr>\n",
       "    <tr>\n",
       "      <th>2</th>\n",
       "      <td>_NhT0A3LUEd75L_cEXf2_A</td>\n",
       "      <td>{'BusinessAcceptsCreditCards': 'True', 'Busine...</td>\n",
       "    </tr>\n",
       "    <tr>\n",
       "      <th>3</th>\n",
       "      <td>A_-Vv5oKZNqxsV69_7E2KQ</td>\n",
       "      <td>{'RestaurantsGoodForGroups': 'True', 'BikePark...</td>\n",
       "    </tr>\n",
       "    <tr>\n",
       "      <th>4</th>\n",
       "      <td>JNH-hcySeuGmtI_t8dG3Dw</td>\n",
       "      <td>{'RestaurantsAttire': 'u'casual'', 'Ambience':...</td>\n",
       "    </tr>\n",
       "  </tbody>\n",
       "</table>\n",
       "</div>"
      ],
      "text/plain": [
       "              business_id                                         attributes\n",
       "0  Dy91wdWkwtI_qgjAIZ0Niw  {'BusinessAcceptsCreditCards': 'True', 'HasTV'...\n",
       "1  _Oksx3ALgKLRVxeAR8l_qA  {'RestaurantsGoodForGroups': 'True', 'Business...\n",
       "2  _NhT0A3LUEd75L_cEXf2_A  {'BusinessAcceptsCreditCards': 'True', 'Busine...\n",
       "3  A_-Vv5oKZNqxsV69_7E2KQ  {'RestaurantsGoodForGroups': 'True', 'BikePark...\n",
       "4  JNH-hcySeuGmtI_t8dG3Dw  {'RestaurantsAttire': 'u'casual'', 'Ambience':..."
      ]
     },
     "execution_count": 31,
     "metadata": {},
     "output_type": "execute_result"
    }
   ],
   "source": [
    "attribute.head()"
   ]
  },
  {
   "cell_type": "code",
   "execution_count": 32,
   "id": "9431939b",
   "metadata": {},
   "outputs": [],
   "source": [
    "for i in range(len(attribute['attributes'])):\n",
    "    if i==None:\n",
    "        print(attribute[i])"
   ]
  },
  {
   "cell_type": "code",
   "execution_count": 33,
   "id": "0a6af120",
   "metadata": {},
   "outputs": [
    {
     "name": "stdout",
     "output_type": "stream",
     "text": [
      "no\n"
     ]
    }
   ],
   "source": [
    "if 'RestaurantsPriceRange2' in attribute['attributes'][153].keys():\n",
    "    print('yes')\n",
    "else :\n",
    "    print('no')"
   ]
  },
  {
   "cell_type": "code",
   "execution_count": 34,
   "id": "3dfa6856",
   "metadata": {
    "scrolled": true
   },
   "outputs": [
    {
     "name": "stdout",
     "output_type": "stream",
     "text": [
      "[1, 2, nan, 2, 2, nan, 2, 1, 2, 2]\n"
     ]
    }
   ],
   "source": [
    "RestaurantsPriceRange2=[]\n",
    "for i in range(len(attribute)):\n",
    "    if 'RestaurantsPriceRange2' in attribute['attributes'][i].keys():\n",
    "#         print(i,int(attribute['attributes'][i]['RestaurantsPriceRange2']))\n",
    "        RestaurantsPriceRange2.append(int(attribute['attributes'][i]['RestaurantsPriceRange2']))\n",
    "    else:\n",
    "        RestaurantsPriceRange2.append(np.nan)\n",
    "#         print(i,np.nan)\n",
    "print(RestaurantsPriceRange2[:10])"
   ]
  },
  {
   "cell_type": "code",
   "execution_count": 35,
   "id": "51eaad62",
   "metadata": {},
   "outputs": [
    {
     "name": "stdout",
     "output_type": "stream",
     "text": [
      "no\n"
     ]
    },
    {
     "data": {
      "text/plain": [
       "{'WiFi': \"'free'\",\n",
       " 'Caters': 'True',\n",
       " 'Ambience': 'None',\n",
       " 'RestaurantsTakeOut': 'None',\n",
       " 'BusinessAcceptsCreditCards': 'True',\n",
       " 'RestaurantsPriceRange2': '1',\n",
       " 'RestaurantsDelivery': 'None'}"
      ]
     },
     "execution_count": 35,
     "metadata": {},
     "output_type": "execute_result"
    }
   ],
   "source": [
    "# no ambience !!!\n",
    "if 'Ambience' in attribute['attributes'][13].keys():\n",
    "    print('yes')\n",
    "else :\n",
    "    print('no')\n",
    "restau.loc[14]['attributes']"
   ]
  },
  {
   "cell_type": "code",
   "execution_count": 36,
   "id": "068a0b9b",
   "metadata": {},
   "outputs": [
    {
     "data": {
      "text/plain": [
       "961"
      ]
     },
     "execution_count": 36,
     "metadata": {},
     "output_type": "execute_result"
    }
   ],
   "source": [
    "len(attribute['attributes'])"
   ]
  },
  {
   "cell_type": "code",
   "execution_count": 37,
   "id": "86bc4ab4",
   "metadata": {},
   "outputs": [],
   "source": [
    "import ast\n",
    "j=0\n",
    "i=0\n",
    "m=0\n",
    "Ambiences=[]\n",
    "for dic in attribute['attributes']:\n",
    "    m+=1\n",
    "    if 'Ambience' in dic.keys():\n",
    "        j+=1\n",
    "#         print(m,type(dic),'\\n\\n')\n",
    "        dic=ast.literal_eval(dic['Ambience'])\n",
    "        if(type(dic) is dict):\n",
    "#             print(m,'iga dict \\n\\n')\n",
    "            Amb=[]\n",
    "            for (k,v) in dic.items():\n",
    "                if v==True:\n",
    "                    Amb.append(k)\n",
    "            Ambiences.append(Amb)\n",
    "        else:#(type(dic) == 'NoneType'):\n",
    "            Ambiences.append([''])\n",
    "#             print(m,'origi dict \\n\\n')\n",
    "    else:\n",
    "        Ambiences.append([''])\n",
    "        i+=1\n",
    "#         print(m,'walo ambience daa \\n\\n')\n",
    "\n",
    "# (i+j,i,j,j-len(attribute['attributes']))"
   ]
  },
  {
   "cell_type": "code",
   "execution_count": 38,
   "id": "5c5598b4",
   "metadata": {},
   "outputs": [
    {
     "data": {
      "text/plain": [
       "(961, 961)"
      ]
     },
     "execution_count": 38,
     "metadata": {},
     "output_type": "execute_result"
    }
   ],
   "source": [
    "(len(RestaurantsPriceRange2),\n",
    " len(Ambiences))"
   ]
  },
  {
   "cell_type": "code",
   "execution_count": 39,
   "id": "ebe589ad",
   "metadata": {},
   "outputs": [
    {
     "name": "stderr",
     "output_type": "stream",
     "text": [
      "C:\\Users\\Utilisateur\\AppData\\Local\\Temp\\ipykernel_6544\\878507070.py:1: SettingWithCopyWarning: \n",
      "A value is trying to be set on a copy of a slice from a DataFrame.\n",
      "Try using .loc[row_indexer,col_indexer] = value instead\n",
      "\n",
      "See the caveats in the documentation: https://pandas.pydata.org/pandas-docs/stable/user_guide/indexing.html#returning-a-view-versus-a-copy\n",
      "  restau['RangePrice']=RestaurantsPriceRange2\n"
     ]
    }
   ],
   "source": [
    "restau['RangePrice']=RestaurantsPriceRange2"
   ]
  },
  {
   "cell_type": "code",
   "execution_count": 40,
   "id": "4b7f8695",
   "metadata": {},
   "outputs": [
    {
     "data": {
      "text/html": [
       "<div>\n",
       "<style scoped>\n",
       "    .dataframe tbody tr th:only-of-type {\n",
       "        vertical-align: middle;\n",
       "    }\n",
       "\n",
       "    .dataframe tbody tr th {\n",
       "        vertical-align: top;\n",
       "    }\n",
       "\n",
       "    .dataframe thead th {\n",
       "        text-align: right;\n",
       "    }\n",
       "</style>\n",
       "<table border=\"1\" class=\"dataframe\">\n",
       "  <thead>\n",
       "    <tr style=\"text-align: right;\">\n",
       "      <th></th>\n",
       "      <th>business_id</th>\n",
       "      <th>name</th>\n",
       "      <th>address</th>\n",
       "      <th>city</th>\n",
       "      <th>stars</th>\n",
       "      <th>review_count</th>\n",
       "      <th>categories</th>\n",
       "      <th>attributes</th>\n",
       "      <th>RangePrice</th>\n",
       "    </tr>\n",
       "  </thead>\n",
       "  <tbody>\n",
       "    <tr>\n",
       "      <th>0</th>\n",
       "      <td>Dy91wdWkwtI_qgjAIZ0Niw</td>\n",
       "      <td>Taqueria Los Primos</td>\n",
       "      <td>3322 Old Capitol Trl</td>\n",
       "      <td>Wilmington</td>\n",
       "      <td>4.0</td>\n",
       "      <td>23</td>\n",
       "      <td>Mexican, Restaurants</td>\n",
       "      <td>{'BusinessAcceptsCreditCards': 'True', 'HasTV'...</td>\n",
       "      <td>1.0</td>\n",
       "    </tr>\n",
       "    <tr>\n",
       "      <th>1</th>\n",
       "      <td>_Oksx3ALgKLRVxeAR8l_qA</td>\n",
       "      <td>V-Trap Kitchen and Lounge</td>\n",
       "      <td>607 N Lincoln St</td>\n",
       "      <td>Wilmington</td>\n",
       "      <td>5.0</td>\n",
       "      <td>13</td>\n",
       "      <td>Restaurants, Mexican, Arts &amp; Entertainment, Ev...</td>\n",
       "      <td>{'RestaurantsGoodForGroups': 'True', 'Business...</td>\n",
       "      <td>2.0</td>\n",
       "    </tr>\n",
       "    <tr>\n",
       "      <th>2</th>\n",
       "      <td>_NhT0A3LUEd75L_cEXf2_A</td>\n",
       "      <td>Season's Pizza</td>\n",
       "      <td>1721 W Gilpin Dr</td>\n",
       "      <td>Wilmington</td>\n",
       "      <td>3.0</td>\n",
       "      <td>7</td>\n",
       "      <td>Restaurants, Pizza</td>\n",
       "      <td>{'BusinessAcceptsCreditCards': 'True', 'Busine...</td>\n",
       "      <td>NaN</td>\n",
       "    </tr>\n",
       "  </tbody>\n",
       "</table>\n",
       "</div>"
      ],
      "text/plain": [
       "              business_id                       name               address  \\\n",
       "0  Dy91wdWkwtI_qgjAIZ0Niw        Taqueria Los Primos  3322 Old Capitol Trl   \n",
       "1  _Oksx3ALgKLRVxeAR8l_qA  V-Trap Kitchen and Lounge      607 N Lincoln St   \n",
       "2  _NhT0A3LUEd75L_cEXf2_A             Season's Pizza      1721 W Gilpin Dr   \n",
       "\n",
       "         city  stars  review_count  \\\n",
       "0  Wilmington    4.0            23   \n",
       "1  Wilmington    5.0            13   \n",
       "2  Wilmington    3.0             7   \n",
       "\n",
       "                                          categories  \\\n",
       "0                               Mexican, Restaurants   \n",
       "1  Restaurants, Mexican, Arts & Entertainment, Ev...   \n",
       "2                                 Restaurants, Pizza   \n",
       "\n",
       "                                          attributes  RangePrice  \n",
       "0  {'BusinessAcceptsCreditCards': 'True', 'HasTV'...         1.0  \n",
       "1  {'RestaurantsGoodForGroups': 'True', 'Business...         2.0  \n",
       "2  {'BusinessAcceptsCreditCards': 'True', 'Busine...         NaN  "
      ]
     },
     "execution_count": 40,
     "metadata": {},
     "output_type": "execute_result"
    }
   ],
   "source": [
    "restau.head(3)"
   ]
  },
  {
   "cell_type": "code",
   "execution_count": 41,
   "id": "80dec040",
   "metadata": {},
   "outputs": [
    {
     "data": {
      "text/html": [
       "<div>\n",
       "<style scoped>\n",
       "    .dataframe tbody tr th:only-of-type {\n",
       "        vertical-align: middle;\n",
       "    }\n",
       "\n",
       "    .dataframe tbody tr th {\n",
       "        vertical-align: top;\n",
       "    }\n",
       "\n",
       "    .dataframe thead th {\n",
       "        text-align: right;\n",
       "    }\n",
       "</style>\n",
       "<table border=\"1\" class=\"dataframe\">\n",
       "  <thead>\n",
       "    <tr style=\"text-align: right;\">\n",
       "      <th></th>\n",
       "      <th>business_id</th>\n",
       "      <th>name</th>\n",
       "      <th>address</th>\n",
       "      <th>city</th>\n",
       "      <th>stars</th>\n",
       "      <th>review_count</th>\n",
       "      <th>categories</th>\n",
       "      <th>RangePrice</th>\n",
       "    </tr>\n",
       "  </thead>\n",
       "  <tbody>\n",
       "    <tr>\n",
       "      <th>0</th>\n",
       "      <td>Dy91wdWkwtI_qgjAIZ0Niw</td>\n",
       "      <td>Taqueria Los Primos</td>\n",
       "      <td>3322 Old Capitol Trl</td>\n",
       "      <td>Wilmington</td>\n",
       "      <td>4.0</td>\n",
       "      <td>23</td>\n",
       "      <td>Mexican, Restaurants</td>\n",
       "      <td>1.0</td>\n",
       "    </tr>\n",
       "    <tr>\n",
       "      <th>1</th>\n",
       "      <td>_Oksx3ALgKLRVxeAR8l_qA</td>\n",
       "      <td>V-Trap Kitchen and Lounge</td>\n",
       "      <td>607 N Lincoln St</td>\n",
       "      <td>Wilmington</td>\n",
       "      <td>5.0</td>\n",
       "      <td>13</td>\n",
       "      <td>Restaurants, Mexican, Arts &amp; Entertainment, Ev...</td>\n",
       "      <td>2.0</td>\n",
       "    </tr>\n",
       "    <tr>\n",
       "      <th>2</th>\n",
       "      <td>_NhT0A3LUEd75L_cEXf2_A</td>\n",
       "      <td>Season's Pizza</td>\n",
       "      <td>1721 W Gilpin Dr</td>\n",
       "      <td>Wilmington</td>\n",
       "      <td>3.0</td>\n",
       "      <td>7</td>\n",
       "      <td>Restaurants, Pizza</td>\n",
       "      <td>NaN</td>\n",
       "    </tr>\n",
       "  </tbody>\n",
       "</table>\n",
       "</div>"
      ],
      "text/plain": [
       "              business_id                       name               address  \\\n",
       "0  Dy91wdWkwtI_qgjAIZ0Niw        Taqueria Los Primos  3322 Old Capitol Trl   \n",
       "1  _Oksx3ALgKLRVxeAR8l_qA  V-Trap Kitchen and Lounge      607 N Lincoln St   \n",
       "2  _NhT0A3LUEd75L_cEXf2_A             Season's Pizza      1721 W Gilpin Dr   \n",
       "\n",
       "         city  stars  review_count  \\\n",
       "0  Wilmington    4.0            23   \n",
       "1  Wilmington    5.0            13   \n",
       "2  Wilmington    3.0             7   \n",
       "\n",
       "                                          categories  RangePrice  \n",
       "0                               Mexican, Restaurants         1.0  \n",
       "1  Restaurants, Mexican, Arts & Entertainment, Ev...         2.0  \n",
       "2                                 Restaurants, Pizza         NaN  "
      ]
     },
     "execution_count": 41,
     "metadata": {},
     "output_type": "execute_result"
    }
   ],
   "source": [
    "restau=restau.drop(['attributes'],axis=1)\n",
    "restau.head(3)"
   ]
  },
  {
   "cell_type": "code",
   "execution_count": 42,
   "id": "22fb6db7",
   "metadata": {},
   "outputs": [],
   "source": [
    "restau['Ambiences']=Ambiences"
   ]
  },
  {
   "cell_type": "code",
   "execution_count": 43,
   "id": "d8b8acae",
   "metadata": {
    "scrolled": true
   },
   "outputs": [
    {
     "data": {
      "text/html": [
       "<div>\n",
       "<style scoped>\n",
       "    .dataframe tbody tr th:only-of-type {\n",
       "        vertical-align: middle;\n",
       "    }\n",
       "\n",
       "    .dataframe tbody tr th {\n",
       "        vertical-align: top;\n",
       "    }\n",
       "\n",
       "    .dataframe thead th {\n",
       "        text-align: right;\n",
       "    }\n",
       "</style>\n",
       "<table border=\"1\" class=\"dataframe\">\n",
       "  <thead>\n",
       "    <tr style=\"text-align: right;\">\n",
       "      <th></th>\n",
       "      <th>business_id</th>\n",
       "      <th>name</th>\n",
       "      <th>address</th>\n",
       "      <th>city</th>\n",
       "      <th>stars</th>\n",
       "      <th>review_count</th>\n",
       "      <th>categories</th>\n",
       "      <th>RangePrice</th>\n",
       "      <th>Ambiences</th>\n",
       "    </tr>\n",
       "  </thead>\n",
       "  <tbody>\n",
       "    <tr>\n",
       "      <th>0</th>\n",
       "      <td>Dy91wdWkwtI_qgjAIZ0Niw</td>\n",
       "      <td>Taqueria Los Primos</td>\n",
       "      <td>3322 Old Capitol Trl</td>\n",
       "      <td>Wilmington</td>\n",
       "      <td>4.0</td>\n",
       "      <td>23</td>\n",
       "      <td>Mexican, Restaurants</td>\n",
       "      <td>1.0</td>\n",
       "      <td>[divey]</td>\n",
       "    </tr>\n",
       "    <tr>\n",
       "      <th>1</th>\n",
       "      <td>_Oksx3ALgKLRVxeAR8l_qA</td>\n",
       "      <td>V-Trap Kitchen and Lounge</td>\n",
       "      <td>607 N Lincoln St</td>\n",
       "      <td>Wilmington</td>\n",
       "      <td>5.0</td>\n",
       "      <td>13</td>\n",
       "      <td>Restaurants, Mexican, Arts &amp; Entertainment, Ev...</td>\n",
       "      <td>2.0</td>\n",
       "      <td>[classy]</td>\n",
       "    </tr>\n",
       "    <tr>\n",
       "      <th>2</th>\n",
       "      <td>_NhT0A3LUEd75L_cEXf2_A</td>\n",
       "      <td>Season's Pizza</td>\n",
       "      <td>1721 W Gilpin Dr</td>\n",
       "      <td>Wilmington</td>\n",
       "      <td>3.0</td>\n",
       "      <td>7</td>\n",
       "      <td>Restaurants, Pizza</td>\n",
       "      <td>NaN</td>\n",
       "      <td>[]</td>\n",
       "    </tr>\n",
       "  </tbody>\n",
       "</table>\n",
       "</div>"
      ],
      "text/plain": [
       "              business_id                       name               address  \\\n",
       "0  Dy91wdWkwtI_qgjAIZ0Niw        Taqueria Los Primos  3322 Old Capitol Trl   \n",
       "1  _Oksx3ALgKLRVxeAR8l_qA  V-Trap Kitchen and Lounge      607 N Lincoln St   \n",
       "2  _NhT0A3LUEd75L_cEXf2_A             Season's Pizza      1721 W Gilpin Dr   \n",
       "\n",
       "         city  stars  review_count  \\\n",
       "0  Wilmington    4.0            23   \n",
       "1  Wilmington    5.0            13   \n",
       "2  Wilmington    3.0             7   \n",
       "\n",
       "                                          categories  RangePrice Ambiences  \n",
       "0                               Mexican, Restaurants         1.0   [divey]  \n",
       "1  Restaurants, Mexican, Arts & Entertainment, Ev...         2.0  [classy]  \n",
       "2                                 Restaurants, Pizza         NaN        []  "
      ]
     },
     "execution_count": 43,
     "metadata": {},
     "output_type": "execute_result"
    }
   ],
   "source": [
    "restau.head(3)"
   ]
  },
  {
   "cell_type": "code",
   "execution_count": 44,
   "id": "efc9f740",
   "metadata": {},
   "outputs": [],
   "source": [
    "restau=restau.rename(columns={\"business_id\": \"business_id:ID(restaurant)\"})"
   ]
  },
  {
   "cell_type": "code",
   "execution_count": 45,
   "id": "1fa51788",
   "metadata": {
    "scrolled": false
   },
   "outputs": [
    {
     "data": {
      "text/html": [
       "<div>\n",
       "<style scoped>\n",
       "    .dataframe tbody tr th:only-of-type {\n",
       "        vertical-align: middle;\n",
       "    }\n",
       "\n",
       "    .dataframe tbody tr th {\n",
       "        vertical-align: top;\n",
       "    }\n",
       "\n",
       "    .dataframe thead th {\n",
       "        text-align: right;\n",
       "    }\n",
       "</style>\n",
       "<table border=\"1\" class=\"dataframe\">\n",
       "  <thead>\n",
       "    <tr style=\"text-align: right;\">\n",
       "      <th></th>\n",
       "      <th>business_id:ID(restaurant)</th>\n",
       "      <th>name</th>\n",
       "      <th>address</th>\n",
       "      <th>city</th>\n",
       "      <th>stars</th>\n",
       "      <th>review_count</th>\n",
       "      <th>categories</th>\n",
       "      <th>RangePrice</th>\n",
       "      <th>Ambiences</th>\n",
       "    </tr>\n",
       "  </thead>\n",
       "  <tbody>\n",
       "    <tr>\n",
       "      <th>0</th>\n",
       "      <td>Dy91wdWkwtI_qgjAIZ0Niw</td>\n",
       "      <td>Taqueria Los Primos</td>\n",
       "      <td>3322 Old Capitol Trl</td>\n",
       "      <td>Wilmington</td>\n",
       "      <td>4.0</td>\n",
       "      <td>23</td>\n",
       "      <td>Mexican, Restaurants</td>\n",
       "      <td>1.0</td>\n",
       "      <td>[divey]</td>\n",
       "    </tr>\n",
       "    <tr>\n",
       "      <th>1</th>\n",
       "      <td>_Oksx3ALgKLRVxeAR8l_qA</td>\n",
       "      <td>V-Trap Kitchen and Lounge</td>\n",
       "      <td>607 N Lincoln St</td>\n",
       "      <td>Wilmington</td>\n",
       "      <td>5.0</td>\n",
       "      <td>13</td>\n",
       "      <td>Restaurants, Mexican, Arts &amp; Entertainment, Ev...</td>\n",
       "      <td>2.0</td>\n",
       "      <td>[classy]</td>\n",
       "    </tr>\n",
       "    <tr>\n",
       "      <th>2</th>\n",
       "      <td>_NhT0A3LUEd75L_cEXf2_A</td>\n",
       "      <td>Season's Pizza</td>\n",
       "      <td>1721 W Gilpin Dr</td>\n",
       "      <td>Wilmington</td>\n",
       "      <td>3.0</td>\n",
       "      <td>7</td>\n",
       "      <td>Restaurants, Pizza</td>\n",
       "      <td>NaN</td>\n",
       "      <td>[]</td>\n",
       "    </tr>\n",
       "  </tbody>\n",
       "</table>\n",
       "</div>"
      ],
      "text/plain": [
       "  business_id:ID(restaurant)                       name               address  \\\n",
       "0     Dy91wdWkwtI_qgjAIZ0Niw        Taqueria Los Primos  3322 Old Capitol Trl   \n",
       "1     _Oksx3ALgKLRVxeAR8l_qA  V-Trap Kitchen and Lounge      607 N Lincoln St   \n",
       "2     _NhT0A3LUEd75L_cEXf2_A             Season's Pizza      1721 W Gilpin Dr   \n",
       "\n",
       "         city  stars  review_count  \\\n",
       "0  Wilmington    4.0            23   \n",
       "1  Wilmington    5.0            13   \n",
       "2  Wilmington    3.0             7   \n",
       "\n",
       "                                          categories  RangePrice Ambiences  \n",
       "0                               Mexican, Restaurants         1.0   [divey]  \n",
       "1  Restaurants, Mexican, Arts & Entertainment, Ev...         2.0  [classy]  \n",
       "2                                 Restaurants, Pizza         NaN        []  "
      ]
     },
     "execution_count": 45,
     "metadata": {},
     "output_type": "execute_result"
    }
   ],
   "source": [
    "restau.head(3)"
   ]
  },
  {
   "cell_type": "code",
   "execution_count": 46,
   "id": "db36cdcf",
   "metadata": {},
   "outputs": [],
   "source": [
    "Nb_Ambiences=[]\n",
    "for i in range(len(restau)):\n",
    "#     print(i,len(restau['Ambiences'][i]))\n",
    "    Nb_Ambiences.append(len(restau['Ambiences'][i]))"
   ]
  },
  {
   "cell_type": "code",
   "execution_count": 47,
   "id": "68ff34b9",
   "metadata": {},
   "outputs": [],
   "source": [
    "restau['Nb_Ambiences']=Nb_Ambiences"
   ]
  },
  {
   "cell_type": "code",
   "execution_count": 48,
   "id": "3527f99c",
   "metadata": {},
   "outputs": [
    {
     "data": {
      "text/html": [
       "<div>\n",
       "<style scoped>\n",
       "    .dataframe tbody tr th:only-of-type {\n",
       "        vertical-align: middle;\n",
       "    }\n",
       "\n",
       "    .dataframe tbody tr th {\n",
       "        vertical-align: top;\n",
       "    }\n",
       "\n",
       "    .dataframe thead th {\n",
       "        text-align: right;\n",
       "    }\n",
       "</style>\n",
       "<table border=\"1\" class=\"dataframe\">\n",
       "  <thead>\n",
       "    <tr style=\"text-align: right;\">\n",
       "      <th></th>\n",
       "      <th>business_id:ID(restaurant)</th>\n",
       "      <th>name</th>\n",
       "      <th>address</th>\n",
       "      <th>city</th>\n",
       "      <th>stars</th>\n",
       "      <th>review_count</th>\n",
       "      <th>categories</th>\n",
       "      <th>RangePrice</th>\n",
       "      <th>Ambiences</th>\n",
       "      <th>Nb_Ambiences</th>\n",
       "    </tr>\n",
       "  </thead>\n",
       "  <tbody>\n",
       "    <tr>\n",
       "      <th>0</th>\n",
       "      <td>Dy91wdWkwtI_qgjAIZ0Niw</td>\n",
       "      <td>Taqueria Los Primos</td>\n",
       "      <td>3322 Old Capitol Trl</td>\n",
       "      <td>Wilmington</td>\n",
       "      <td>4.0</td>\n",
       "      <td>23</td>\n",
       "      <td>Mexican, Restaurants</td>\n",
       "      <td>1.0</td>\n",
       "      <td>[divey]</td>\n",
       "      <td>1</td>\n",
       "    </tr>\n",
       "    <tr>\n",
       "      <th>1</th>\n",
       "      <td>_Oksx3ALgKLRVxeAR8l_qA</td>\n",
       "      <td>V-Trap Kitchen and Lounge</td>\n",
       "      <td>607 N Lincoln St</td>\n",
       "      <td>Wilmington</td>\n",
       "      <td>5.0</td>\n",
       "      <td>13</td>\n",
       "      <td>Restaurants, Mexican, Arts &amp; Entertainment, Ev...</td>\n",
       "      <td>2.0</td>\n",
       "      <td>[classy]</td>\n",
       "      <td>1</td>\n",
       "    </tr>\n",
       "    <tr>\n",
       "      <th>2</th>\n",
       "      <td>_NhT0A3LUEd75L_cEXf2_A</td>\n",
       "      <td>Season's Pizza</td>\n",
       "      <td>1721 W Gilpin Dr</td>\n",
       "      <td>Wilmington</td>\n",
       "      <td>3.0</td>\n",
       "      <td>7</td>\n",
       "      <td>Restaurants, Pizza</td>\n",
       "      <td>NaN</td>\n",
       "      <td>[]</td>\n",
       "      <td>1</td>\n",
       "    </tr>\n",
       "  </tbody>\n",
       "</table>\n",
       "</div>"
      ],
      "text/plain": [
       "  business_id:ID(restaurant)                       name               address  \\\n",
       "0     Dy91wdWkwtI_qgjAIZ0Niw        Taqueria Los Primos  3322 Old Capitol Trl   \n",
       "1     _Oksx3ALgKLRVxeAR8l_qA  V-Trap Kitchen and Lounge      607 N Lincoln St   \n",
       "2     _NhT0A3LUEd75L_cEXf2_A             Season's Pizza      1721 W Gilpin Dr   \n",
       "\n",
       "         city  stars  review_count  \\\n",
       "0  Wilmington    4.0            23   \n",
       "1  Wilmington    5.0            13   \n",
       "2  Wilmington    3.0             7   \n",
       "\n",
       "                                          categories  RangePrice Ambiences  \\\n",
       "0                               Mexican, Restaurants         1.0   [divey]   \n",
       "1  Restaurants, Mexican, Arts & Entertainment, Ev...         2.0  [classy]   \n",
       "2                                 Restaurants, Pizza         NaN        []   \n",
       "\n",
       "   Nb_Ambiences  \n",
       "0             1  \n",
       "1             1  \n",
       "2             1  "
      ]
     },
     "execution_count": 48,
     "metadata": {},
     "output_type": "execute_result"
    }
   ],
   "source": [
    "restau.head(3)"
   ]
  },
  {
   "cell_type": "code",
   "execution_count": 49,
   "id": "65fb13ee",
   "metadata": {},
   "outputs": [],
   "source": [
    "restau.to_csv(r'C:/Users/Utilisateur/Desktop/data_csv_neo4j/restaurant.csv',\n",
    "                                 index = None)"
   ]
  },
  {
   "cell_type": "code",
   "execution_count": 50,
   "id": "0aa8a998",
   "metadata": {},
   "outputs": [],
   "source": [
    "Nb_categories=[]\n",
    "for i in range(len(restau)):\n",
    "#     print(i,len(restau['Ambiences'][i]))\n",
    "    Nb_categories.append(len(restau['categories'][i].split(',')))"
   ]
  },
  {
   "cell_type": "code",
   "execution_count": 51,
   "id": "e369f676",
   "metadata": {},
   "outputs": [
    {
     "data": {
      "text/plain": [
       "[2, 12, 2, 9, 2, 2, 4, 5, 4, 4]"
      ]
     },
     "execution_count": 51,
     "metadata": {},
     "output_type": "execute_result"
    }
   ],
   "source": [
    "Nb_categories[:10]"
   ]
  },
  {
   "cell_type": "code",
   "execution_count": 52,
   "id": "aa85c50f",
   "metadata": {},
   "outputs": [],
   "source": [
    "restau['Nb_categories']=Nb_categories"
   ]
  },
  {
   "cell_type": "code",
   "execution_count": 53,
   "id": "9c767066",
   "metadata": {},
   "outputs": [],
   "source": [
    "restau.to_csv(r'C:/Users/Utilisateur/Desktop/importer/restaurant.csv',\n",
    "                                 index = None)"
   ]
  },
  {
   "cell_type": "code",
   "execution_count": 54,
   "id": "c15be174",
   "metadata": {},
   "outputs": [],
   "source": [
    "#  delete [''] : ----> vide"
   ]
  },
  {
   "cell_type": "markdown",
   "id": "9e293516",
   "metadata": {},
   "source": [
    "### pour importer les noudes et les relations"
   ]
  },
  {
   "cell_type": "raw",
   "id": "ad1d4643",
   "metadata": {},
   "source": [
    "#commande pour importer les fichiers csv en neo4j\n",
    "\n",
    ".\\bin\\neo4j-admin import --database=graph.db --nodes=user=\\C:\\Users\\Utilisateur\\Desktop\\data_csv_neo4j\\user.csv --nodes=restaurant=\\C:\\Users\\Utilisateur\\Desktop\\data_csv_neo4j\\restaurants.csv --relationships=friend=\\C:\\Users\\Utilisateur\\Desktop\\data_csv_neo4j\\friend.csv --relationships=review=\\C:\\Users\\Utilisateur\\Desktop\\data_csv_neo4j\\review.csv --trim-strings=true --force --multiline-fields=true"
   ]
  },
  {
   "cell_type": "markdown",
   "id": "ab78a03d",
   "metadata": {},
   "source": [
    "# 2-Interrogation des données"
   ]
  },
  {
   "cell_type": "code",
   "execution_count": 4,
   "id": "995eba84",
   "metadata": {
    "scrolled": true
   },
   "outputs": [
    {
     "data": {
      "text/html": [
       "<img src=\"./screen_neo4j/graph.png\" width=\"500\" height=\"500\"/>"
      ],
      "text/plain": [
       "<IPython.core.display.Image object>"
      ]
     },
     "execution_count": 4,
     "metadata": {},
     "output_type": "execute_result"
    }
   ],
   "source": [
    "#  un sous graph de notre projet:\n",
    "Image(url='./screen_neo4j/graph.png', width=500, height=500)"
   ]
  },
  {
   "cell_type": "markdown",
   "id": "dca81359",
   "metadata": {},
   "source": [
    "### 2-1. Donner le nombre de noeuds par label;"
   ]
  },
  {
   "cell_type": "code",
   "execution_count": 6,
   "id": "e4767368",
   "metadata": {},
   "outputs": [
    {
     "data": {
      "text/html": [
       "<img src=\"./screen_neo4j/requests/R1.png\" width=\"500\" height=\"500\"/>"
      ],
      "text/plain": [
       "<IPython.core.display.Image object>"
      ]
     },
     "execution_count": 6,
     "metadata": {},
     "output_type": "execute_result"
    }
   ],
   "source": [
    "# MATCH (n:user)\n",
    "# RETURN count(*)\n",
    "# import image module\n",
    "Image(url='./screen_neo4j/requests/R1.png', width=500, height=500)"
   ]
  },
  {
   "cell_type": "code",
   "execution_count": 7,
   "id": "3b277d41",
   "metadata": {},
   "outputs": [
    {
     "data": {
      "text/html": [
       "<img src=\"./screen_neo4j/requests/R2.png\" width=\"500\" height=\"500\"/>"
      ],
      "text/plain": [
       "<IPython.core.display.Image object>"
      ]
     },
     "execution_count": 7,
     "metadata": {},
     "output_type": "execute_result"
    }
   ],
   "source": [
    "# MATCH (n:restaurant)\n",
    "# RETURN count(*)\n",
    "\n",
    "Image(url='./screen_neo4j/requests/R2.png', width=500, height=500)\n"
   ]
  },
  {
   "cell_type": "markdown",
   "id": "cb6a5ef1",
   "metadata": {},
   "source": [
    "### 2-2. Donner le nombre de relations par type;"
   ]
  },
  {
   "cell_type": "code",
   "execution_count": 9,
   "id": "1af775da",
   "metadata": {},
   "outputs": [
    {
     "data": {
      "text/html": [
       "<img src=\"./screen_neo4j/requests/R3.png\" width=\"500\" height=\"500\"/>"
      ],
      "text/plain": [
       "<IPython.core.display.Image object>"
      ]
     },
     "execution_count": 9,
     "metadata": {},
     "output_type": "execute_result"
    }
   ],
   "source": [
    "# MATCH (u:user)-[r:friend]->(v:user)\n",
    "# RETURN count(*)\n",
    "\n",
    "Image(url='./screen_neo4j/requests/R3.png', width=500, height=500)\n"
   ]
  },
  {
   "cell_type": "code",
   "execution_count": 10,
   "id": "6904593f",
   "metadata": {},
   "outputs": [
    {
     "data": {
      "text/html": [
       "<img src=\"./screen_neo4j/requests/R4.png\" width=\"500\" height=\"500\"/>"
      ],
      "text/plain": [
       "<IPython.core.display.Image object>"
      ]
     },
     "execution_count": 10,
     "metadata": {},
     "output_type": "execute_result"
    }
   ],
   "source": [
    "# MATCH (u:user)-[r:review]->(n:restaurant)\n",
    "# RETURN count(*)\n",
    "\n",
    "Image(url='./screen_neo4j/requests/R4.png', width=500, height=500)\n"
   ]
  },
  {
   "cell_type": "markdown",
   "id": "7c9a0f48",
   "metadata": {},
   "source": [
    "### 2-3. Donner la ou les catégories du restaurant 8th & Union Kitchen;"
   ]
  },
  {
   "cell_type": "code",
   "execution_count": 11,
   "id": "fe11059f",
   "metadata": {},
   "outputs": [
    {
     "data": {
      "text/html": [
       "<img src=\"./screen_neo4j/requests/R5.png\" width=\"500\" height=\"500\"/>"
      ],
      "text/plain": [
       "<IPython.core.display.Image object>"
      ]
     },
     "execution_count": 11,
     "metadata": {},
     "output_type": "execute_result"
    }
   ],
   "source": [
    "# match (r:restaurant)\n",
    "# where r.name='8th & Union Kitchen'\n",
    "# return r.categories\n",
    "\n",
    "Image(url='./screen_neo4j/requests/R5.png', width=500, height=500)\n"
   ]
  },
  {
   "cell_type": "markdown",
   "id": "72487ec6",
   "metadata": {},
   "source": [
    "### 2-4. Donner la ou les ambiances du restaurant 8th & Union Kitchen;"
   ]
  },
  {
   "cell_type": "code",
   "execution_count": 12,
   "id": "1f044514",
   "metadata": {},
   "outputs": [
    {
     "data": {
      "text/html": [
       "<img src=\"./screen_neo4j/requests/R6.png\" width=\"500\" height=\"500\"/>"
      ],
      "text/plain": [
       "<IPython.core.display.Image object>"
      ]
     },
     "execution_count": 12,
     "metadata": {},
     "output_type": "execute_result"
    }
   ],
   "source": [
    "# match (r:restaurant)\n",
    "# where r.name='8th & Union Kitchen'\n",
    "# return r.Ambiences\n",
    "\n",
    "Image(url='./screen_neo4j/requests/R6.png', width=500, height=500)\n"
   ]
  },
  {
   "cell_type": "markdown",
   "id": "e6d5b066",
   "metadata": {},
   "source": [
    "### 5. Donner les reviews du restaurant Tokyo Sushi;"
   ]
  },
  {
   "cell_type": "code",
   "execution_count": 13,
   "id": "31aed1fc",
   "metadata": {
    "scrolled": true
   },
   "outputs": [
    {
     "data": {
      "text/html": [
       "<img src=\"./screen_neo4j/requests/R71.png\" width=\"500\" height=\"500\"/>"
      ],
      "text/plain": [
       "<IPython.core.display.Image object>"
      ]
     },
     "execution_count": 13,
     "metadata": {},
     "output_type": "execute_result"
    }
   ],
   "source": [
    "# MATCH (n:restaurant{name:'Tokyo Sushi'})<-[r:review]-(user)\n",
    "# RETURN r\n",
    "Image(url='./screen_neo4j/requests/R71.png', width=500, height=500)\n"
   ]
  },
  {
   "cell_type": "code",
   "execution_count": 14,
   "id": "289bf89a",
   "metadata": {},
   "outputs": [
    {
     "data": {
      "text/html": [
       "<img src=\"./screen_neo4j/requests/R72.png\" width=\"500\" height=\"500\"/>"
      ],
      "text/plain": [
       "<IPython.core.display.Image object>"
      ]
     },
     "execution_count": 14,
     "metadata": {},
     "output_type": "execute_result"
    }
   ],
   "source": [
    "# pour afficher le nombre de review:\n",
    "# MATCH (n:restaurant{name:'Tokyo Sushi'})<-[r:review]-(user)\n",
    "# RETURN count(*)\n",
    "Image(url='./screen_neo4j/requests/R72.png', width=500, height=500)\n"
   ]
  },
  {
   "cell_type": "markdown",
   "id": "eaf57983",
   "metadata": {},
   "source": [
    "### 2-6. Donner les couples d’utilisateurs amis qui ont reviewé le restaurant Tokyo Sushi;"
   ]
  },
  {
   "cell_type": "code",
   "execution_count": 15,
   "id": "4ef4dedd",
   "metadata": {},
   "outputs": [
    {
     "data": {
      "text/html": [
       "<img src=\"./screen_neo4j/requests/R8.png\" width=\"500\" height=\"500\"/>"
      ],
      "text/plain": [
       "<IPython.core.display.Image object>"
      ]
     },
     "execution_count": 15,
     "metadata": {},
     "output_type": "execute_result"
    }
   ],
   "source": [
    "# match (u:user)-[:review]->(r:restaurant{name:'Tokyo Sushi'})<-[:review]-(v:user), \n",
    "# (u:user)-[:friend]->(v:user), \n",
    "# (u:user)<-[:friend]-(v:user)\n",
    "# return distinct u.name,v.name\n",
    "Image(url='./screen_neo4j/requests/R8.png', width=500, height=500)\n"
   ]
  },
  {
   "cell_type": "markdown",
   "id": "2041f00a",
   "metadata": {},
   "source": [
    "### 2-7. Qui est l’utilisateur qui a le plus d’amis ?"
   ]
  },
  {
   "cell_type": "code",
   "execution_count": 16,
   "id": "6e8fa88d",
   "metadata": {},
   "outputs": [
    {
     "data": {
      "text/html": [
       "<img src=\"./screen_neo4j/requests/R9.png\" width=\"400\" height=\"400\"/>"
      ],
      "text/plain": [
       "<IPython.core.display.Image object>"
      ]
     },
     "execution_count": 16,
     "metadata": {},
     "output_type": "execute_result"
    }
   ],
   "source": [
    "# match (u:user)\n",
    "# return u.name,u.nb_friends\n",
    "# order by u.nb_friends desc\n",
    "# limit 1\n",
    "Image(url='./screen_neo4j/requests/R9.png', width=400, height=400)"
   ]
  },
  {
   "cell_type": "markdown",
   "id": "acf7766e",
   "metadata": {},
   "source": [
    "### 2-8. Qui sont les amis des reviewers du restaurant Tokyo Sushi qui ont reviewés des restaurants avec les mêmes ambiances ?"
   ]
  },
  {
   "cell_type": "code",
   "execution_count": 17,
   "id": "e57f0968",
   "metadata": {},
   "outputs": [
    {
     "data": {
      "text/html": [
       "<img src=\"./screen_neo4j/requests/R10.png\" width=\"500\" height=\"500\"/>"
      ],
      "text/plain": [
       "<IPython.core.display.Image object>"
      ]
     },
     "execution_count": 17,
     "metadata": {},
     "output_type": "execute_result"
    }
   ],
   "source": [
    "# match (u:user)-[r:review]->(n:restaurant{name: 'Tokyo Sushi'}),\n",
    "# (u2:user)-[:friend]->(u:user), \n",
    "# (u2:user)-[:review]->(n2:restaurant)\n",
    "# where n.Ambiences = n2.Ambiences\n",
    "# return distinct u2.name,u.name\n",
    "Image(url='./screen_neo4j/requests/R10.png', width=500, height=500)"
   ]
  },
  {
   "cell_type": "markdown",
   "id": "e26a570d",
   "metadata": {},
   "source": [
    "### 2-9. Combien de paires de personnes ont au moins 10 restaurants aimés en commun ? (un restaurant est ’aimé’ si la review a une note (stars) >= 4)"
   ]
  },
  {
   "cell_type": "code",
   "execution_count": 18,
   "id": "2b01b49a",
   "metadata": {},
   "outputs": [
    {
     "data": {
      "text/html": [
       "<img src=\"./screen_neo4j/requests/R11.png\" width=\"500\" height=\"500\"/>"
      ],
      "text/plain": [
       "<IPython.core.display.Image object>"
      ]
     },
     "execution_count": 18,
     "metadata": {},
     "output_type": "execute_result"
    }
   ],
   "source": [
    "# match (u:user)-[ru:review]->(r:restaurant)<-[rv:review]-(v:user)\n",
    "# WITH count(r) as restau, count(ru.stars) as a, count(rv.stars) as b, u.name as name_user1, v.name as name_user2\n",
    "# where a>=4 and b>=4 and mm>=10\n",
    "# return distinct count(*) as common_numbername_user1\n",
    "# // return count(*) as N_of_common_likes_10\n",
    "Image(url='./screen_neo4j/requests/R11.png', width=500, height=500)"
   ]
  },
  {
   "cell_type": "markdown",
   "id": "d3ac55dc",
   "metadata": {},
   "source": [
    "## 3 Application : moteur de recommandation d’influenceurs"
   ]
  },
  {
   "cell_type": "markdown",
   "id": "fbdbd8c8",
   "metadata": {},
   "source": [
    "### 3.1 Codage de l’application"
   ]
  },
  {
   "cell_type": "raw",
   "id": "ec37427f",
   "metadata": {},
   "source": [
    "Produire une application en Python reposant sur la base de données Neo4j, prenant en entrée des informations sur un restaurant à promovoir :\n",
    "• ville (chaîne de caractères)\n",
    "• ambiances (tableau de chaines de caractères)\n",
    "• catégories (tableau de chaines de caractères)\n",
    "• catégorie tarifaire (entier)\n",
    "et renvoyant les 10 utilisateurs les plus intéressants à inviter pour ce restaurant."
   ]
  },
  {
   "cell_type": "markdown",
   "id": "eae8d42a",
   "metadata": {},
   "source": [
    "### 3.2 Test de l’application"
   ]
  },
  {
   "cell_type": "raw",
   "id": "da659474",
   "metadata": {},
   "source": [
    "     On indique la liste d’utilisateurs et scores associés obtenue pour les tests suivants, \n",
    " avec α = 0.3, β = 0.3, γ = 0.3 et δ = 0.1 :\n",
    "• ’Wilmington’, [’casual’], [’Pizza’,’Burgers’,’Italian’], 1\n",
    "• ’Wilmington’, [’casual, ’romantic’],[’Chinese’], 2\n",
    "• ’Wilmington’,[’hipster’][’Nightlife’,’Bars’],1\n",
    "• ’New Castle’, [’casual’,’classy’],[’Coffee & Tea’],2\n",
    "• ’New Castle’, [’classy’],[’Seafood’],1"
   ]
  },
  {
   "cell_type": "code",
   "execution_count": 68,
   "id": "6105ceca",
   "metadata": {},
   "outputs": [],
   "source": [
    "# pip install py2neo"
   ]
  },
  {
   "cell_type": "code",
   "execution_count": 69,
   "id": "ee9632e5",
   "metadata": {},
   "outputs": [],
   "source": [
    "from py2neo import Graph"
   ]
  },
  {
   "cell_type": "code",
   "execution_count": 72,
   "id": "8c985479",
   "metadata": {},
   "outputs": [],
   "source": [
    "graph = Graph(\"bolt://localhost:7687\", \n",
    "              auth=(\"neo4j\", \"proj\"))\n",
    "q = \"\"\"\n",
    "match (u:user) return u.name as username\n",
    "\"\"\"\n",
    "res = graph.run(q).to_table()"
   ]
  },
  {
   "cell_type": "code",
   "execution_count": 73,
   "id": "ead4ae58",
   "metadata": {
    "scrolled": true
   },
   "outputs": [
    {
     "name": "stdout",
     "output_type": "stream",
     "text": [
      "[('Jenna',), ('Brian',), ('Jie',), ('Elva',), ('Kathy',), ('Michael',), ('Lan',), ('Cece',), ('Donna',), ('Timmy',)]\n"
     ]
    }
   ],
   "source": [
    "# for record in res :\n",
    "#     print(record[0])\n",
    "print(res[:10])"
   ]
  },
  {
   "attachments": {},
   "cell_type": "markdown",
   "id": "29bebfbd",
   "metadata": {},
   "source": [
    "## Cas d’étude\n",
    "### Besoins"
   ]
  },
  {
   "cell_type": "code",
   "execution_count": 74,
   "id": "a71c8d03",
   "metadata": {},
   "outputs": [],
   "source": [
    "# df_user=pd.read_csv('user.csv')\n",
    "# df_restaurants=pd.read_csv('restaurant.csv')\n",
    "# df_review=pd.read_csv('review.csv')\n",
    "# df_friend=pd.read_csv('friend.csv')"
   ]
  },
  {
   "cell_type": "code",
   "execution_count": 75,
   "id": "2006201a",
   "metadata": {},
   "outputs": [],
   "source": [
    "## version dataframe \n",
    "# def score1_social_immediat(user_id):\n",
    "#     nb_friends = len(list(df_user.loc[df_user['user_id'] == user_id].friends)[0])\n",
    "#     return nb_friends/ df_user['nb_friends'].max()\n",
    "# score1_social_immediat('IpLRJY4CP3fXtlEd8Y4GFQ')"
   ]
  },
  {
   "cell_type": "code",
   "execution_count": 76,
   "id": "5669f0b2",
   "metadata": {},
   "outputs": [
    {
     "data": {
      "text/plain": [
       "0.049891540130151846"
      ]
     },
     "execution_count": 76,
     "metadata": {},
     "output_type": "execute_result"
    }
   ],
   "source": [
    "def score1_social_immediat_neo4j(i):\n",
    "    q1 = \"\"\"\n",
    "    match (u:user) \n",
    "    where u.user_id=$idd\n",
    "    return toFloat(u.nb_friends) as nb_friends\n",
    "    \"\"\"\n",
    "    q2=\"\"\"\n",
    "    MATCH (u:user) \n",
    "    RETURN max(toFloat(u.nb_friends)) as max\n",
    "    \"\"\"\n",
    "    res1 = graph.run(q1,idd=i).to_table()\n",
    "    res2 = graph.run(q2).to_table()\n",
    "#     print(res1[0][0])\n",
    "#     print(res2[0][0])\n",
    "    return res1[0][0]/res2[0][0]\n",
    "score1_social_immediat_neo4j('IpLRJY4CP3fXtlEd8Y4GFQ')"
   ]
  },
  {
   "cell_type": "code",
   "execution_count": 77,
   "id": "c4bab13d",
   "metadata": {},
   "outputs": [],
   "source": [
    "# len(df_user.loc[df_user['user_id'] == 'TRFTDMJegE6DituEKBpEKQ'].friends)"
   ]
  },
  {
   "cell_type": "code",
   "execution_count": 78,
   "id": "5d9bbbbe",
   "metadata": {},
   "outputs": [],
   "source": [
    "# # version dataframe \n",
    "# def  score2_social_second_niveau(user_id):\n",
    "#     amis = list(df_user.loc[df_user['user_id'] == user_id].friends)[0]\n",
    "#     print(amis)\n",
    "#     nb_friends_total = 0\n",
    "#     for i in amis:\n",
    "#         nb_friends = len(list(df_user.loc[df_user['user_id'] == i].nb_friends))\n",
    "#         nb_friends_total += nb_friends\n",
    "#     return nb_friends_total / df_user['nb_friends'].max()\n",
    "\n",
    "# score2_social_second_niveau('12Cd6TiyLHOXNP7iZ_t5kg')"
   ]
  },
  {
   "cell_type": "code",
   "execution_count": 79,
   "id": "3e6dca98",
   "metadata": {},
   "outputs": [
    {
     "data": {
      "text/plain": [
       "2.2689804772234274"
      ]
     },
     "execution_count": 79,
     "metadata": {},
     "output_type": "execute_result"
    }
   ],
   "source": [
    "def score2_social_second_niveau_neo4j(i):\n",
    "    q1=\"\"\"\n",
    "    MATCH (n:user)\n",
    "    WHERE n.user_id=$idd\n",
    "    MATCH  (n)-[:friend*2]-(m) \n",
    "    RETURN toFloat(count(m.friends))\n",
    "    \"\"\"\n",
    "    q2=\"\"\"\n",
    "    MATCH (n:user) \n",
    "    MATCH  (n)-[:friend*2]-(m) \n",
    "    RETURN  max(toFloat(m.nb_friends))\n",
    "    \"\"\"\n",
    "    res1 = graph.run(q1,idd=i).to_table()\n",
    "    res2 = graph.run(q2).to_table()\n",
    "    return res1[0][0]/res2[0][0]\n",
    "\n",
    "score2_social_second_niveau_neo4j('1-gnHNzZNbn8lFwYRF_CtA')"
   ]
  },
  {
   "cell_type": "code",
   "execution_count": 80,
   "id": "e6d0846c",
   "metadata": {},
   "outputs": [],
   "source": [
    "#version dataframe\n",
    "# def score3_intrinseque(user_id):\n",
    "#     for i in range(len(df_user)):\n",
    "#         if df_user['user_id'][i]==user_id :\n",
    "#             return df_user['fans'][i] / np.max(list(df_user['fans']))\n",
    "# score3_intrinseque('TRFTDMJegE6DituEKBpEKQ')"
   ]
  },
  {
   "cell_type": "code",
   "execution_count": 81,
   "id": "d5d32ccf",
   "metadata": {},
   "outputs": [
    {
     "data": {
      "text/plain": [
       "1.4228456913827656"
      ]
     },
     "execution_count": 81,
     "metadata": {},
     "output_type": "execute_result"
    }
   ],
   "source": [
    "def score3_intrinseque_neo4j(i):\n",
    "    q1=\"\"\"\n",
    "    MATCH (n:user)\n",
    "    WHERE n.user_id=$idd\n",
    "    MATCH  (n)-[:friend*2]-(m) \n",
    "    RETURN toFloat(count(m.friends))\n",
    "    \"\"\"\n",
    "    q2=\"\"\"\n",
    "    MATCH (u:user) \n",
    "    RETURN max(toFloat(u.fans))\n",
    "    \"\"\"\n",
    "    res1 = graph.run(q1,idd=i).to_table()\n",
    "    res2 = graph.run(q2).to_table()\n",
    "    return res1[0][0]/res2[0][0]\n",
    "\n",
    "score3_intrinseque_neo4j('IpLRJY4CP3fXtlEd8Y4GFQ')"
   ]
  },
  {
   "cell_type": "code",
   "execution_count": 82,
   "id": "514cacd2",
   "metadata": {},
   "outputs": [],
   "source": [
    "def facteur_centralité(user_id):\n",
    "    return np.mean([score1_social_immediat_neo4j(user_id),\n",
    "                  score2_social_second_niveau_neo4j(user_id),\n",
    "                  score3_intrinseque_neo4j(user_id)],axis=0)"
   ]
  },
  {
   "cell_type": "code",
   "execution_count": 83,
   "id": "0a330b73",
   "metadata": {},
   "outputs": [
    {
     "data": {
      "text/plain": [
       "4.084549431473214"
      ]
     },
     "execution_count": 83,
     "metadata": {},
     "output_type": "execute_result"
    }
   ],
   "source": [
    "facteur_centralité('IpLRJY4CP3fXtlEd8Y4GFQ')"
   ]
  },
  {
   "cell_type": "code",
   "execution_count": 84,
   "id": "549e5c6d",
   "metadata": {},
   "outputs": [],
   "source": [
    "# # version dataframe\n",
    "# def  score4_validité(user_id):\n",
    "#     useful=list(df_review.loc[df_review['user_id'] == user_id].useful)[0] \n",
    "#     review_count=list(df_user.loc[df_user['user_id'] == user_id].review_count)[0]\n",
    "#     return useful/review_count\n",
    "\n",
    "# score4_validité('IpLRJY4CP3fXtlEd8Y4GFQ')"
   ]
  },
  {
   "cell_type": "code",
   "execution_count": 85,
   "id": "68c1f62c",
   "metadata": {},
   "outputs": [
    {
     "data": {
      "text/plain": [
       "0.005791505791505791"
      ]
     },
     "execution_count": 85,
     "metadata": {},
     "output_type": "execute_result"
    }
   ],
   "source": [
    "def score4_validité_neo4j(i):\n",
    "    q1=\"\"\"\n",
    "    MATCH (u:user)-[r:review]->(m:restaurant)\n",
    "    WHERE u.user_id=$idd and toFloat(r.useful)>=1 \n",
    "    RETURN count(*)\n",
    "    \"\"\"\n",
    "    q2=\"\"\"\n",
    "    MATCH (u:user) \n",
    "    WHERE u.user_id=$idd\n",
    "    RETURN toFloat(u.review_count)\n",
    "    \"\"\"\n",
    "    res1 = graph.run(q1,idd=i).to_table()\n",
    "    res2 = graph.run(q2,idd=i).to_table()\n",
    "    return res1[0][0]/res2[0][0]\n",
    "\n",
    "score4_validité_neo4j('IpLRJY4CP3fXtlEd8Y4GFQ')"
   ]
  },
  {
   "cell_type": "code",
   "execution_count": 86,
   "id": "2e7c2277",
   "metadata": {},
   "outputs": [],
   "source": [
    "# # version dataframe\n",
    "# def score5_coolitude(user_id):\n",
    "#     cool=list(df_review.loc[df_review['user_id'] == user_id].cool)[0]\n",
    "#     review_count=list(df_user.loc[df_user['user_id'] == user_id].review_count)[0]\n",
    "#     return cool/review_count\n",
    "# score5_coolitude('IpLRJY4CP3fXtlEd8Y4GFQ')"
   ]
  },
  {
   "cell_type": "code",
   "execution_count": 87,
   "id": "f1a7702a",
   "metadata": {},
   "outputs": [
    {
     "data": {
      "text/plain": [
       "0.0019305019305019305"
      ]
     },
     "execution_count": 87,
     "metadata": {},
     "output_type": "execute_result"
    }
   ],
   "source": [
    "def score5_coolitude_neo4j(i):\n",
    "    q1=\"\"\"\n",
    "    MATCH (u:user)-[r:review]->(m:restaurant)\n",
    "    WHERE u.user_id=$idd and toFloat(r.cool)>=1 \n",
    "    RETURN count(*)\n",
    "    \"\"\"\n",
    "    q2=\"\"\"\n",
    "    MATCH (u:user) \n",
    "    WHERE u.user_id=$idd\n",
    "    RETURN toFloat(u.review_count)\n",
    "    \"\"\"\n",
    "    res1 = graph.run(q1,idd=i).to_table()\n",
    "    res2 = graph.run(q2,idd=i).to_table()\n",
    "    return res1[0][0]/res2[0][0]\n",
    "\n",
    "score5_coolitude_neo4j('IpLRJY4CP3fXtlEd8Y4GFQ')"
   ]
  },
  {
   "cell_type": "code",
   "execution_count": 88,
   "id": "4e5f84d6",
   "metadata": {},
   "outputs": [
    {
     "data": {
      "text/plain": [
       "0.003861003861003861"
      ]
     },
     "execution_count": 88,
     "metadata": {},
     "output_type": "execute_result"
    }
   ],
   "source": [
    "def facteur_validité(user_id):\n",
    "    return np.mean([score4_validité_neo4j(user_id),\n",
    "                  score5_coolitude_neo4j(user_id),\n",
    "                  ],axis=0)\n",
    "facteur_validité('IpLRJY4CP3fXtlEd8Y4GFQ')"
   ]
  },
  {
   "cell_type": "code",
   "execution_count": 89,
   "id": "a6727081",
   "metadata": {},
   "outputs": [],
   "source": [
    "# def score6_adequation_ambiance(user_id , restaurant_id):\n",
    "#     nb_ambience = len(list(df_restaurants.loc[df_restaurants['business_id'] ==\n",
    "#                                               restaurant_id]['Ambiences'])[0])\n",
    "#     reviews = list(df_user.loc[df_user['user_id'] == user_id].review_count)[0]\n",
    "#     ambiences = list(df_restaurants.loc[df_restaurants['business_id'] == restaurant_id]['Ambiences'])[0]\n",
    "#     touslesrestau = list(df_review.loc[df_review['user_id'] == user_id]['business_id'])\n",
    "#     filtered = []\n",
    "#     for am in ambiences:\n",
    "#         for i in touslesrestau:\n",
    "#             if am in list(df_restaurants.loc[df_restaurants['business_id'] == i]['Ambiences'])[0] :\n",
    "#                 filtered.append(i)\n",
    "#     sum = 0\n",
    "#     for i in filtered:\n",
    "#         if list(df_review.loc[df_review['business_id'] == i]['stars'])[0] >= 4 :\n",
    "#             sum += 1\n",
    "#     return (sum/reviews)/nb_ambience"
   ]
  },
  {
   "cell_type": "code",
   "execution_count": 90,
   "id": "43c939c3",
   "metadata": {},
   "outputs": [
    {
     "data": {
      "text/plain": [
       "0.005791505791505791"
      ]
     },
     "execution_count": 90,
     "metadata": {},
     "output_type": "execute_result"
    }
   ],
   "source": [
    "def score6_adequation_ambiance_neo4j(i , j):\n",
    "    q1=\"\"\"\n",
    "    MATCH (u:user)-[r:review]->(m:restaurant)\n",
    "    WHERE u.user_id=$idi and toFloat(r.stars)>=4\n",
    "    RETURN count(*) as NbPositive\n",
    "    \"\"\"\n",
    "    q2=\"\"\"\n",
    "    MATCH (u:user) \n",
    "    WHERE u.user_id=$idi\n",
    "    RETURN tointeger(u.review_count)\n",
    "    \"\"\"\n",
    "    q3=\"\"\"\n",
    "    match (r:restaurant)\n",
    "    WHERE r.business_id=$idj\n",
    "    return toInteger(r.Nb_Ambiences)\n",
    "    \"\"\"\n",
    "    res1 = graph.run(q1,idi=i).to_table()\n",
    "    res2 = graph.run(q2,idi=i).to_table()\n",
    "    m = graph.run(q3,idj=j).to_table()\n",
    "    return (res1[0][0]/res2[0][0])/m[0][0]\n",
    "score6_adequation_ambiance_neo4j('IpLRJY4CP3fXtlEd8Y4GFQ' , 'Dy91wdWkwtI_qgjAIZ0Niw')"
   ]
  },
  {
   "cell_type": "code",
   "execution_count": 91,
   "id": "20315f4d",
   "metadata": {},
   "outputs": [],
   "source": [
    "# def score7_adequation_categorie(user_id , restaurant_id):\n",
    "#     nb_categorie = len(list(df_restaurants.loc[df_restaurants['business_id'] == restaurant_id]['categories'])[0])\n",
    "#     reviews = list(df_user.loc[df_user['user_id'] == user_id].review_count)[0]\n",
    "#     categories = list(df_restaurants.loc[df_restaurants['business_id'] == restaurant_id]['categories'])[0]\n",
    "#     touslesrestau = list(df_review.loc[df_review['user_id'] ==user_id]['business_id'])\n",
    "#     filtered = []\n",
    "#     for am in categories:\n",
    "#         for i in touslesrestau:\n",
    "#             if am in list(df_restaurants.loc[df_restaurants['business_id'] == i]['categories'])[0] :\n",
    "#                 filtered.append(i)\n",
    "#     sum = 0\n",
    "#     for i in filtered:\n",
    "#         if list(df_review.loc[df_review['business_id'] == i]['stars'])[0] >= 4 :\n",
    "#             sum += 1\n",
    "#     return (sum/reviews)/nb_categorie\n",
    "# score7_adequation_categorie('KZNpUHqATkV6CfDMwC8HzQ' , '5R6YO6K9PkthkTbXqV9slQ')"
   ]
  },
  {
   "cell_type": "code",
   "execution_count": 92,
   "id": "6a67c559",
   "metadata": {},
   "outputs": [
    {
     "data": {
      "text/plain": [
       "0.0028957528957528956"
      ]
     },
     "execution_count": 92,
     "metadata": {},
     "output_type": "execute_result"
    }
   ],
   "source": [
    "def score7_adequation_categorie_neo4j(i , j):\n",
    "    q1=\"\"\"\n",
    "    MATCH (u:user)-[r:review]->(m:restaurant) \n",
    "    WHERE u.user_id=$idi and toFloat(r.stars)>=4 \n",
    "    RETURN count(*) as NbPositive\n",
    "    \"\"\"\n",
    "    q2=\"\"\"\n",
    "    MATCH (u:user) \n",
    "    WHERE u.user_id=$idi\n",
    "    RETURN tointeger(u.review_count)\n",
    "    \"\"\"\n",
    "    q3=\"\"\"\n",
    "    match (r:restaurant)\n",
    "    WHERE r.business_id=$idj\n",
    "    return toInteger(r.Nb_categories)\n",
    "    \"\"\"\n",
    "    res1 = graph.run(q1,idi=i).to_table()\n",
    "    res2 = graph.run(q2,idi=i).to_table()\n",
    "    m = graph.run(q3,idj=j).to_table()\n",
    "    return (res1[0][0]/res2[0][0])/m[0][0]\n",
    "score7_adequation_categorie_neo4j('IpLRJY4CP3fXtlEd8Y4GFQ' , 'Dy91wdWkwtI_qgjAIZ0Niw')"
   ]
  },
  {
   "cell_type": "code",
   "execution_count": 93,
   "id": "6c839dba",
   "metadata": {},
   "outputs": [],
   "source": [
    "# def score8_adequation_tarif(user_id , restaurant_id):\n",
    "#     reviews = list(df_user.loc[df_user['user_id'] == user_id].review_count)[0]\n",
    "#     pricerange = list(df_restaurants.loc[df_restaurants['business_id'] == restaurant_id]['RangePrice'])[0]\n",
    "#     touslesrestau = list(df_review.loc[df_review['user_id'] ==user_id]['business_id'])\n",
    "#     filtered = []\n",
    "#     for i in touslesrestau:\n",
    "#         if list(df_restaurants.loc[df_restaurants['business_id'] == i]['RangePrice'])[0] ==pricerange  :\n",
    "#             filtered.append(i)\n",
    "#     sum = 0\n",
    "#     for i in filtered:\n",
    "#         if list(df_review.loc[df_review['business_id'] == i]['stars'])[0] >= 4 :\n",
    "#             sum += 1\n",
    "#     return (sum)/reviews\n",
    "# score8_adequation_tarif('KZNpUHqATkV6CfDMwC8HzQ' , '5R6YO6K9PkthkTbXqV9slQ')"
   ]
  },
  {
   "cell_type": "code",
   "execution_count": 107,
   "id": "d3d19107",
   "metadata": {},
   "outputs": [
    {
     "data": {
      "text/plain": [
       "0.04"
      ]
     },
     "execution_count": 107,
     "metadata": {},
     "output_type": "execute_result"
    }
   ],
   "source": [
    "def score8_adequation_categorie_neo4j(i , j, p):\n",
    "    q1=\"\"\"\n",
    "    MATCH (u:user)-[r:review]->(b:restaurant)\n",
    "    WHERE  toFloat(r.stars)>=4 \n",
    "        and u.user_id=$idi \n",
    "        and b.business_id=$idj\n",
    "        and b.RangePrice=$price\n",
    "    RETURN count(*) as NbPositivePrice\n",
    "    \"\"\"\n",
    "    q2=\"\"\"\n",
    "    MATCH (u:user) \n",
    "    WHERE u.user_id=$idi\n",
    "    RETURN tointeger(u.review_count)\n",
    "    \"\"\"\n",
    "    res1 = graph.run(q1,idi=i,idj=j, price=p).to_table()\n",
    "    res2 = graph.run(q2,idi=i).to_table()\n",
    "    return res1[0][0]/res2[0][0]\n",
    "\n",
    "score8_adequation_categorie_neo4j('hefsTMvc-iSBsY_Nfa8WCg','5IFqqWJTaPNoY2ZgRlX73w','2.0')"
   ]
  },
  {
   "cell_type": "code",
   "execution_count": 132,
   "id": "a0a59517",
   "metadata": {},
   "outputs": [
    {
     "data": {
      "text/plain": [
       "0.09684684684684684"
      ]
     },
     "execution_count": 132,
     "metadata": {},
     "output_type": "execute_result"
    }
   ],
   "source": [
    "def facteur_adequation(user_id, restaurant_id,p):\n",
    "    return np.mean([\n",
    "        score6_adequation_ambiance_neo4j(user_id, restaurant_id),\n",
    "        score7_adequation_categorie_neo4j(user_id , restaurant_id),\n",
    "        score8_adequation_categorie_neo4j(user_id , restaurant_id,p) ],axis=0)\n",
    "\n",
    "facteur_adequation('KZNpUHqATkV6CfDMwC8HzQ' , '5R6YO6K9PkthkTbXqV9slQ','2.0')"
   ]
  },
  {
   "cell_type": "code",
   "execution_count": 133,
   "id": "838cd0b9",
   "metadata": {},
   "outputs": [
    {
     "data": {
      "text/plain": [
       "0.007745797024909779"
      ]
     },
     "execution_count": 133,
     "metadata": {},
     "output_type": "execute_result"
    }
   ],
   "source": [
    "def score9_geographique_neo4j(i , j, v):\n",
    "    q1=\"\"\"\n",
    "    MATCH  (n:user)-[:friend]->(m:user)-[r:review]->(b:restaurant)\n",
    "    WHERE b.business_id=$idj \n",
    "      and b.city=$ville\n",
    "    RETURN count(toFloat(m.review_count))\n",
    "    \"\"\"\n",
    "    q2=\"\"\"\n",
    "    MATCH  (n:user)-[:friend]->(m:user)\n",
    "    WHERE n.user_id=$idi \n",
    "    RETURN sum(toFloat(m.review_count))\n",
    "    \"\"\"\n",
    "    res1 = graph.run(q1,idj=j,ville=v).to_table()\n",
    "    res2 = graph.run(q2,idi=i).to_table()\n",
    "    return res1[0][0]/res2[0][0]\n",
    "\n",
    "score9_geographique_neo4j('IpLRJY4CP3fXtlEd8Y4GFQ' , 'Dy91wdWkwtI_qgjAIZ0Niw', 'Wilmington')"
   ]
  },
  {
   "attachments": {},
   "cell_type": "markdown",
   "id": "ddbd70c1",
   "metadata": {},
   "source": [
    "## Recommandatations"
   ]
  },
  {
   "cell_type": "code",
   "execution_count": null,
   "id": "6d8d3acd",
   "metadata": {},
   "outputs": [],
   "source": [
    "from random import randrange"
   ]
  },
  {
   "cell_type": "code",
   "execution_count": 109,
   "id": "07b5800a",
   "metadata": {},
   "outputs": [],
   "source": [
    "test_1= {'business_id' : 'Mon_id_1', 'city' : \"Wilmington\", 'Ambiences' : [\"casual\"],            'RangePrice': 1, 'categories' : [\"Pizza\",\"Burgers\", \"Italian\"]}\n",
    "test_2= {'business_id' : 'Mon_id_2', 'city' : \"Wilmington\", 'Ambiences' : [\"casual\",\"romantic\"], 'RangePrice': 2, 'categories' : [\"Chinese\"]}        \n",
    "test_3= {'business_id' : 'Mon_id_3', 'city' : \"Wilmington\", 'Ambiences' : [\"hipster\"],           'RangePrice': 1, 'categories' : [\"Nightlife\",\"Bars\"] }      \n",
    "test_4= {'business_id' : 'Mon_id_4', 'city' : \"New Castle\", 'Ambiences' : [\"casual\",\"classy\"],   'RangePrice': 2, 'categories' : [\"Coffee & Tea\"]}         \n",
    "test_5= {'business_id' : 'Mon_id_5', 'city' : \"New Castle\", 'Ambiences' : [\"classy\"],            'RangePrice': 1, 'categories' : [\"Seafood\"]}             "
   ]
  },
  {
   "cell_type": "code",
   "execution_count": 111,
   "id": "9d988586",
   "metadata": {},
   "outputs": [
    {
     "data": {
      "text/plain": [
       "'Mon_id_1'"
      ]
     },
     "execution_count": 111,
     "metadata": {},
     "output_type": "execute_result"
    }
   ],
   "source": [
    "test_1['business_id']"
   ]
  },
  {
   "cell_type": "code",
   "execution_count": 128,
   "id": "0fa8fcbe",
   "metadata": {},
   "outputs": [],
   "source": [
    "q1=\"\"\"\n",
    "    match (u:user)\n",
    "    return u.user_id\n",
    "\"\"\"\n",
    "user_ids = graph.run(q1).to_table()"
   ]
  },
  {
   "cell_type": "code",
   "execution_count": 129,
   "id": "aa5fa4ee",
   "metadata": {},
   "outputs": [
    {
     "data": {
      "text/plain": [
       "('XYebnhvfAEiWmsuYSVdJgA',)"
      ]
     },
     "execution_count": 129,
     "metadata": {},
     "output_type": "execute_result"
    }
   ],
   "source": [
    "user_ids[1]"
   ]
  },
  {
   "cell_type": "code",
   "execution_count": null,
   "id": "e9b46a59",
   "metadata": {
    "scrolled": false
   },
   "outputs": [],
   "source": [
    "def recommend(test, alpha,beta,gamma,delta):\n",
    "    user_scores = []\n",
    "    q1=\"\"\"\n",
    "    match (u:user)\n",
    "    return u.user_id\n",
    "    \"\"\"\n",
    "    df_user = graph.run(q1).to_table()\n",
    "    \n",
    "    for user in range(len(ids)):\n",
    "        f1=alpha *facteur_centralité(user)\n",
    "        f2=beta *facteur_validité(user)\n",
    "        f3=gamma *facteur_adequation(user , test['business_id'],test['RangePrice'])\n",
    "        S9=delta* score9_geographique_neo4j(user , test['business_id'], test['city'])\n",
    "        s=f1+f2+f3+S9\n",
    "        user_scores.append([s,user])\n",
    "    return user_scores"
   ]
  },
  {
   "cell_type": "code",
   "execution_count": null,
   "id": "a6f608de",
   "metadata": {},
   "outputs": [],
   "source": [
    "dataframe=pd.DataFrame(user_scores)\n",
    "dataframe=dataframe.sort()\n",
    "dataframe.head(10)"
   ]
  },
  {
   "cell_type": "code",
   "execution_count": null,
   "id": "a9d2d9f6",
   "metadata": {},
   "outputs": [],
   "source": [
    "def score_user(user, restaurant,  alpha, beta, gamma, delta):\n",
    "    return alpha * facteur_centralité(user) + beta * facteur_validité(user)  +  gamma * facteur_adequation(user, restaurant) + delta* score9_geographique_neo4j(user, restaurant)\n",
    "\n",
    "score_user('KZNpUHqATkV6CfDMwC8HzQ' , '5R6YO6K9PkthkTbXqV9slQ',  0.5,0.4,0.3,0.2)"
   ]
  }
 ],
 "metadata": {
  "kernelspec": {
   "display_name": "base",
   "language": "python",
   "name": "python3"
  },
  "language_info": {
   "codemirror_mode": {
    "name": "ipython",
    "version": 3
   },
   "file_extension": ".py",
   "mimetype": "text/x-python",
   "name": "python",
   "nbconvert_exporter": "python",
   "pygments_lexer": "ipython3",
   "version": "3.9.13 (main, Aug 25 2022, 23:51:50) [MSC v.1916 64 bit (AMD64)]"
  },
  "vscode": {
   "interpreter": {
    "hash": "ad2bdc8ecc057115af97d19610ffacc2b4e99fae6737bb82f5d7fb13d2f2c186"
   }
  }
 },
 "nbformat": 4,
 "nbformat_minor": 5
}
